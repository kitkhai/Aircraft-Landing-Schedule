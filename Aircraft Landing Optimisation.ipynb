{
 "cells": [
  {
   "cell_type": "code",
   "execution_count": 1,
   "id": "5a90e78d",
   "metadata": {},
   "outputs": [],
   "source": [
    "import pandas as pd\n",
    "import numpy as np\n",
    "from rsome import ro, grb_solver as grb"
   ]
  },
  {
   "cell_type": "markdown",
   "id": "c75511f5",
   "metadata": {},
   "source": [
    "# Data Ingestion"
   ]
  },
  {
   "cell_type": "markdown",
   "id": "2ba12fe1",
   "metadata": {},
   "source": [
    "The datasets we used consist of data for 15 aircraft and 3 runways."
   ]
  },
  {
   "cell_type": "markdown",
   "id": "780a29b2",
   "metadata": {},
   "source": [
    "## Separation Times"
   ]
  },
  {
   "cell_type": "code",
   "execution_count": 2,
   "id": "54b3c8d6",
   "metadata": {
    "scrolled": true
   },
   "outputs": [
    {
     "data": {
      "text/html": [
       "<div>\n",
       "<style scoped>\n",
       "    .dataframe tbody tr th:only-of-type {\n",
       "        vertical-align: middle;\n",
       "    }\n",
       "\n",
       "    .dataframe tbody tr th {\n",
       "        vertical-align: top;\n",
       "    }\n",
       "\n",
       "    .dataframe thead th {\n",
       "        text-align: right;\n",
       "    }\n",
       "</style>\n",
       "<table border=\"1\" class=\"dataframe\">\n",
       "  <thead>\n",
       "    <tr style=\"text-align: right;\">\n",
       "      <th></th>\n",
       "      <th>0</th>\n",
       "      <th>1</th>\n",
       "      <th>2</th>\n",
       "      <th>3</th>\n",
       "      <th>4</th>\n",
       "      <th>5</th>\n",
       "      <th>6</th>\n",
       "      <th>7</th>\n",
       "      <th>8</th>\n",
       "      <th>9</th>\n",
       "      <th>10</th>\n",
       "      <th>11</th>\n",
       "      <th>12</th>\n",
       "      <th>13</th>\n",
       "      <th>14</th>\n",
       "    </tr>\n",
       "  </thead>\n",
       "  <tbody>\n",
       "    <tr>\n",
       "      <th>0</th>\n",
       "      <td>99999</td>\n",
       "      <td>1</td>\n",
       "      <td>3</td>\n",
       "      <td>3</td>\n",
       "      <td>3</td>\n",
       "      <td>3</td>\n",
       "      <td>3</td>\n",
       "      <td>3</td>\n",
       "      <td>3</td>\n",
       "      <td>3</td>\n",
       "      <td>1</td>\n",
       "      <td>1</td>\n",
       "      <td>3</td>\n",
       "      <td>3</td>\n",
       "      <td>1</td>\n",
       "    </tr>\n",
       "    <tr>\n",
       "      <th>1</th>\n",
       "      <td>1</td>\n",
       "      <td>99999</td>\n",
       "      <td>3</td>\n",
       "      <td>3</td>\n",
       "      <td>3</td>\n",
       "      <td>3</td>\n",
       "      <td>3</td>\n",
       "      <td>3</td>\n",
       "      <td>3</td>\n",
       "      <td>3</td>\n",
       "      <td>1</td>\n",
       "      <td>1</td>\n",
       "      <td>3</td>\n",
       "      <td>3</td>\n",
       "      <td>1</td>\n",
       "    </tr>\n",
       "    <tr>\n",
       "      <th>2</th>\n",
       "      <td>3</td>\n",
       "      <td>3</td>\n",
       "      <td>99999</td>\n",
       "      <td>2</td>\n",
       "      <td>2</td>\n",
       "      <td>2</td>\n",
       "      <td>2</td>\n",
       "      <td>2</td>\n",
       "      <td>2</td>\n",
       "      <td>2</td>\n",
       "      <td>3</td>\n",
       "      <td>3</td>\n",
       "      <td>2</td>\n",
       "      <td>2</td>\n",
       "      <td>3</td>\n",
       "    </tr>\n",
       "    <tr>\n",
       "      <th>3</th>\n",
       "      <td>3</td>\n",
       "      <td>3</td>\n",
       "      <td>2</td>\n",
       "      <td>99999</td>\n",
       "      <td>2</td>\n",
       "      <td>2</td>\n",
       "      <td>2</td>\n",
       "      <td>2</td>\n",
       "      <td>2</td>\n",
       "      <td>2</td>\n",
       "      <td>3</td>\n",
       "      <td>3</td>\n",
       "      <td>2</td>\n",
       "      <td>2</td>\n",
       "      <td>3</td>\n",
       "    </tr>\n",
       "    <tr>\n",
       "      <th>4</th>\n",
       "      <td>3</td>\n",
       "      <td>3</td>\n",
       "      <td>2</td>\n",
       "      <td>2</td>\n",
       "      <td>99999</td>\n",
       "      <td>2</td>\n",
       "      <td>2</td>\n",
       "      <td>2</td>\n",
       "      <td>2</td>\n",
       "      <td>2</td>\n",
       "      <td>3</td>\n",
       "      <td>3</td>\n",
       "      <td>2</td>\n",
       "      <td>2</td>\n",
       "      <td>3</td>\n",
       "    </tr>\n",
       "  </tbody>\n",
       "</table>\n",
       "</div>"
      ],
      "text/plain": [
       "      0      1      2      3      4   5   6   7   8   9   10  11  12  13  14\n",
       "0  99999      1      3      3      3   3   3   3   3   3   1   1   3   3   1\n",
       "1      1  99999      3      3      3   3   3   3   3   3   1   1   3   3   1\n",
       "2      3      3  99999      2      2   2   2   2   2   2   3   3   2   2   3\n",
       "3      3      3      2  99999      2   2   2   2   2   2   3   3   2   2   3\n",
       "4      3      3      2      2  99999   2   2   2   2   2   3   3   2   2   3"
      ]
     },
     "execution_count": 2,
     "metadata": {},
     "output_type": "execute_result"
    }
   ],
   "source": [
    "separation_time = pd.read_csv(\"separation_time.csv\", header=None)\n",
    "separation_time.head()"
   ]
  },
  {
   "cell_type": "code",
   "execution_count": 3,
   "id": "bf2edf29",
   "metadata": {},
   "outputs": [],
   "source": [
    "separation_time = separation_time.values"
   ]
  },
  {
   "cell_type": "markdown",
   "id": "6e1b6b0c",
   "metadata": {},
   "source": [
    "## Aircraft"
   ]
  },
  {
   "cell_type": "code",
   "execution_count": 4,
   "id": "a03c9542",
   "metadata": {
    "scrolled": false
   },
   "outputs": [
    {
     "data": {
      "text/html": [
       "<div>\n",
       "<style scoped>\n",
       "    .dataframe tbody tr th:only-of-type {\n",
       "        vertical-align: middle;\n",
       "    }\n",
       "\n",
       "    .dataframe tbody tr th {\n",
       "        vertical-align: top;\n",
       "    }\n",
       "\n",
       "    .dataframe thead th {\n",
       "        text-align: right;\n",
       "    }\n",
       "</style>\n",
       "<table border=\"1\" class=\"dataframe\">\n",
       "  <thead>\n",
       "    <tr style=\"text-align: right;\">\n",
       "      <th></th>\n",
       "      <th>Aircraft ID</th>\n",
       "      <th>Earliest Landing Slot</th>\n",
       "      <th>Target Landing Slot</th>\n",
       "      <th>Latest Landing Slot</th>\n",
       "      <th>Earliness Penalty</th>\n",
       "      <th>Lateness Penalty</th>\n",
       "      <th>Size</th>\n",
       "    </tr>\n",
       "  </thead>\n",
       "  <tbody>\n",
       "    <tr>\n",
       "      <th>0</th>\n",
       "      <td>0</td>\n",
       "      <td>3</td>\n",
       "      <td>4</td>\n",
       "      <td>12</td>\n",
       "      <td>10</td>\n",
       "      <td>30</td>\n",
       "      <td>3</td>\n",
       "    </tr>\n",
       "    <tr>\n",
       "      <th>1</th>\n",
       "      <td>1</td>\n",
       "      <td>4</td>\n",
       "      <td>6</td>\n",
       "      <td>15</td>\n",
       "      <td>10</td>\n",
       "      <td>30</td>\n",
       "      <td>3</td>\n",
       "    </tr>\n",
       "    <tr>\n",
       "      <th>2</th>\n",
       "      <td>2</td>\n",
       "      <td>1</td>\n",
       "      <td>2</td>\n",
       "      <td>11</td>\n",
       "      <td>10</td>\n",
       "      <td>30</td>\n",
       "      <td>2</td>\n",
       "    </tr>\n",
       "    <tr>\n",
       "      <th>3</th>\n",
       "      <td>3</td>\n",
       "      <td>2</td>\n",
       "      <td>2</td>\n",
       "      <td>11</td>\n",
       "      <td>10</td>\n",
       "      <td>30</td>\n",
       "      <td>2</td>\n",
       "    </tr>\n",
       "    <tr>\n",
       "      <th>4</th>\n",
       "      <td>4</td>\n",
       "      <td>3</td>\n",
       "      <td>3</td>\n",
       "      <td>11</td>\n",
       "      <td>10</td>\n",
       "      <td>30</td>\n",
       "      <td>2</td>\n",
       "    </tr>\n",
       "    <tr>\n",
       "      <th>5</th>\n",
       "      <td>5</td>\n",
       "      <td>3</td>\n",
       "      <td>5</td>\n",
       "      <td>12</td>\n",
       "      <td>10</td>\n",
       "      <td>30</td>\n",
       "      <td>2</td>\n",
       "    </tr>\n",
       "    <tr>\n",
       "      <th>6</th>\n",
       "      <td>6</td>\n",
       "      <td>3</td>\n",
       "      <td>3</td>\n",
       "      <td>12</td>\n",
       "      <td>10</td>\n",
       "      <td>30</td>\n",
       "      <td>1</td>\n",
       "    </tr>\n",
       "    <tr>\n",
       "      <th>7</th>\n",
       "      <td>7</td>\n",
       "      <td>5</td>\n",
       "      <td>9</td>\n",
       "      <td>11</td>\n",
       "      <td>10</td>\n",
       "      <td>30</td>\n",
       "      <td>1</td>\n",
       "    </tr>\n",
       "    <tr>\n",
       "      <th>8</th>\n",
       "      <td>8</td>\n",
       "      <td>6</td>\n",
       "      <td>10</td>\n",
       "      <td>12</td>\n",
       "      <td>10</td>\n",
       "      <td>30</td>\n",
       "      <td>1</td>\n",
       "    </tr>\n",
       "    <tr>\n",
       "      <th>9</th>\n",
       "      <td>9</td>\n",
       "      <td>3</td>\n",
       "      <td>4</td>\n",
       "      <td>13</td>\n",
       "      <td>10</td>\n",
       "      <td>30</td>\n",
       "      <td>1</td>\n",
       "    </tr>\n",
       "    <tr>\n",
       "      <th>10</th>\n",
       "      <td>10</td>\n",
       "      <td>6</td>\n",
       "      <td>9</td>\n",
       "      <td>17</td>\n",
       "      <td>10</td>\n",
       "      <td>30</td>\n",
       "      <td>1</td>\n",
       "    </tr>\n",
       "    <tr>\n",
       "      <th>11</th>\n",
       "      <td>11</td>\n",
       "      <td>6</td>\n",
       "      <td>8</td>\n",
       "      <td>16</td>\n",
       "      <td>10</td>\n",
       "      <td>30</td>\n",
       "      <td>3</td>\n",
       "    </tr>\n",
       "    <tr>\n",
       "      <th>12</th>\n",
       "      <td>12</td>\n",
       "      <td>4</td>\n",
       "      <td>4</td>\n",
       "      <td>14</td>\n",
       "      <td>10</td>\n",
       "      <td>30</td>\n",
       "      <td>2</td>\n",
       "    </tr>\n",
       "    <tr>\n",
       "      <th>13</th>\n",
       "      <td>13</td>\n",
       "      <td>4</td>\n",
       "      <td>4</td>\n",
       "      <td>13</td>\n",
       "      <td>10</td>\n",
       "      <td>30</td>\n",
       "      <td>3</td>\n",
       "    </tr>\n",
       "    <tr>\n",
       "      <th>14</th>\n",
       "      <td>14</td>\n",
       "      <td>6</td>\n",
       "      <td>7</td>\n",
       "      <td>17</td>\n",
       "      <td>10</td>\n",
       "      <td>30</td>\n",
       "      <td>1</td>\n",
       "    </tr>\n",
       "  </tbody>\n",
       "</table>\n",
       "</div>"
      ],
      "text/plain": [
       "    Aircraft ID  Earliest Landing Slot  Target Landing Slot  \\\n",
       "0             0                      3                    4   \n",
       "1             1                      4                    6   \n",
       "2             2                      1                    2   \n",
       "3             3                      2                    2   \n",
       "4             4                      3                    3   \n",
       "5             5                      3                    5   \n",
       "6             6                      3                    3   \n",
       "7             7                      5                    9   \n",
       "8             8                      6                   10   \n",
       "9             9                      3                    4   \n",
       "10           10                      6                    9   \n",
       "11           11                      6                    8   \n",
       "12           12                      4                    4   \n",
       "13           13                      4                    4   \n",
       "14           14                      6                    7   \n",
       "\n",
       "    Latest Landing Slot  Earliness Penalty  Lateness Penalty  Size  \n",
       "0                    12                 10                30     3  \n",
       "1                    15                 10                30     3  \n",
       "2                    11                 10                30     2  \n",
       "3                    11                 10                30     2  \n",
       "4                    11                 10                30     2  \n",
       "5                    12                 10                30     2  \n",
       "6                    12                 10                30     1  \n",
       "7                    11                 10                30     1  \n",
       "8                    12                 10                30     1  \n",
       "9                    13                 10                30     1  \n",
       "10                   17                 10                30     1  \n",
       "11                   16                 10                30     3  \n",
       "12                   14                 10                30     2  \n",
       "13                   13                 10                30     3  \n",
       "14                   17                 10                30     1  "
      ]
     },
     "execution_count": 4,
     "metadata": {},
     "output_type": "execute_result"
    }
   ],
   "source": [
    "aircraft_df = pd.read_csv(\"aircraft.csv\")\n",
    "aircraft_df"
   ]
  },
  {
   "cell_type": "code",
   "execution_count": 5,
   "id": "ff859d9a",
   "metadata": {},
   "outputs": [],
   "source": [
    "earliest_landing = aircraft_df[\"Earliest Landing Slot\"].values\n",
    "target_landing = aircraft_df[\"Target Landing Slot\"].values\n",
    "latest_landing = aircraft_df[\"Latest Landing Slot\"].values\n",
    "earliness_penalty = aircraft_df[\"Earliness Penalty\"].values\n",
    "lateness_penalty = aircraft_df[\"Lateness Penalty\"].values\n",
    "aircraft_size = aircraft_df[\"Size\"].values"
   ]
  },
  {
   "cell_type": "markdown",
   "id": "8e72b158",
   "metadata": {},
   "source": [
    "## Runway"
   ]
  },
  {
   "cell_type": "code",
   "execution_count": 6,
   "id": "d0b41ba7",
   "metadata": {},
   "outputs": [
    {
     "data": {
      "text/html": [
       "<div>\n",
       "<style scoped>\n",
       "    .dataframe tbody tr th:only-of-type {\n",
       "        vertical-align: middle;\n",
       "    }\n",
       "\n",
       "    .dataframe tbody tr th {\n",
       "        vertical-align: top;\n",
       "    }\n",
       "\n",
       "    .dataframe thead th {\n",
       "        text-align: right;\n",
       "    }\n",
       "</style>\n",
       "<table border=\"1\" class=\"dataframe\">\n",
       "  <thead>\n",
       "    <tr style=\"text-align: right;\">\n",
       "      <th></th>\n",
       "      <th>Runway</th>\n",
       "      <th>Max Size</th>\n",
       "    </tr>\n",
       "  </thead>\n",
       "  <tbody>\n",
       "    <tr>\n",
       "      <th>0</th>\n",
       "      <td>1</td>\n",
       "      <td>3</td>\n",
       "    </tr>\n",
       "    <tr>\n",
       "      <th>1</th>\n",
       "      <td>2</td>\n",
       "      <td>1</td>\n",
       "    </tr>\n",
       "    <tr>\n",
       "      <th>2</th>\n",
       "      <td>3</td>\n",
       "      <td>2</td>\n",
       "    </tr>\n",
       "  </tbody>\n",
       "</table>\n",
       "</div>"
      ],
      "text/plain": [
       "   Runway  Max Size\n",
       "0       1         3\n",
       "1       2         1\n",
       "2       3         2"
      ]
     },
     "execution_count": 6,
     "metadata": {},
     "output_type": "execute_result"
    }
   ],
   "source": [
    "runway = pd.read_csv(\"runway.csv\")\n",
    "runway.head()"
   ]
  },
  {
   "cell_type": "code",
   "execution_count": 7,
   "id": "9d4abd57",
   "metadata": {},
   "outputs": [],
   "source": [
    "runway_max_size = runway[\"Max Size\"].values"
   ]
  },
  {
   "cell_type": "markdown",
   "id": "a757b485",
   "metadata": {},
   "source": [
    "## Weather"
   ]
  },
  {
   "cell_type": "code",
   "execution_count": 8,
   "id": "7d794536",
   "metadata": {
    "scrolled": true
   },
   "outputs": [
    {
     "data": {
      "text/html": [
       "<div>\n",
       "<style scoped>\n",
       "    .dataframe tbody tr th:only-of-type {\n",
       "        vertical-align: middle;\n",
       "    }\n",
       "\n",
       "    .dataframe tbody tr th {\n",
       "        vertical-align: top;\n",
       "    }\n",
       "\n",
       "    .dataframe thead th {\n",
       "        text-align: right;\n",
       "    }\n",
       "</style>\n",
       "<table border=\"1\" class=\"dataframe\">\n",
       "  <thead>\n",
       "    <tr style=\"text-align: right;\">\n",
       "      <th></th>\n",
       "      <th>Good Weather</th>\n",
       "    </tr>\n",
       "  </thead>\n",
       "  <tbody>\n",
       "    <tr>\n",
       "      <th>0</th>\n",
       "      <td>2</td>\n",
       "    </tr>\n",
       "    <tr>\n",
       "      <th>1</th>\n",
       "      <td>3</td>\n",
       "    </tr>\n",
       "    <tr>\n",
       "      <th>2</th>\n",
       "      <td>5</td>\n",
       "    </tr>\n",
       "    <tr>\n",
       "      <th>3</th>\n",
       "      <td>6</td>\n",
       "    </tr>\n",
       "    <tr>\n",
       "      <th>4</th>\n",
       "      <td>7</td>\n",
       "    </tr>\n",
       "  </tbody>\n",
       "</table>\n",
       "</div>"
      ],
      "text/plain": [
       "   Good Weather\n",
       "0             2\n",
       "1             3\n",
       "2             5\n",
       "3             6\n",
       "4             7"
      ]
     },
     "execution_count": 8,
     "metadata": {},
     "output_type": "execute_result"
    }
   ],
   "source": [
    "good_weather = pd.read_csv(\"good_weather.csv\")\n",
    "good_weather.head()"
   ]
  },
  {
   "cell_type": "code",
   "execution_count": 9,
   "id": "af3351c1",
   "metadata": {},
   "outputs": [],
   "source": [
    "good_weather = good_weather[\"Good Weather\"].values"
   ]
  },
  {
   "cell_type": "markdown",
   "id": "91607754",
   "metadata": {},
   "source": [
    "# Model"
   ]
  },
  {
   "cell_type": "code",
   "execution_count": 10,
   "id": "61625e7a",
   "metadata": {},
   "outputs": [],
   "source": [
    "def get_landing_schedule(\n",
    "    separation_time,\n",
    "    earliest_landing,\n",
    "    target_landing,\n",
    "    latest_landing,\n",
    "    earliness_penalty,\n",
    "    lateness_penalty,\n",
    "    aircraft_size,\n",
    "    runway_max_size,\n",
    "    good_weather\n",
    "):\n",
    "    # Derivation of additional parameters\n",
    "    # ===================================\n",
    "    num_aircraft = len(earliest_landing)\n",
    "    num_runways = len(runway_max_size)\n",
    "    max_size_diff = aircraft_size.max() - runway_max_size.min()  # Max difference between runway size and aircraft size\n",
    "    num_good_weather_slots = len(good_weather)\n",
    "    M = 100\n",
    "    \n",
    "    # Initialisation\n",
    "    # ==============\n",
    "    model = ro.Model(\"Aircraft Landing Optimisation\")\n",
    "    \n",
    "    # Decision variables\n",
    "    # ==================\n",
    "    # Scheduled landing time slot for each aircraft\n",
    "    scheduled_landing = model.dvar(num_aircraft)\n",
    "\n",
    "    # How early each aircraft is scheduled to land, with respect to the target landing time\n",
    "    earliness = model.dvar(num_aircraft)\n",
    "    \n",
    "    # How late each aircraft is scheduled to land, with respect to the target landing time\n",
    "    lateness = model.dvar(num_aircraft)\n",
    "    \n",
    "    # Whether aircraft i is scheduled to land in good weather slot g \n",
    "    i_lands_in_g = model.dvar((num_aircraft, num_good_weather_slots), 'B')\n",
    "    \n",
    "    # Whether aircraft i is scheduled to land before aircraft j\n",
    "    i_lands_before_j = model.dvar((num_aircraft, num_aircraft), \"B\")\n",
    "    \n",
    "    # Whether aircraft i is scheduled to land on the same runway as aircraft j\n",
    "    i_lands_on_same_runway_j = model.dvar((num_aircraft, num_aircraft), \"B\")\n",
    "    \n",
    "    # One-hot matrix of allocating runways to each aircraft\n",
    "    runway_allocation = model.dvar((num_aircraft, num_runways), \"B\")  \n",
    "    \n",
    "    # Objective function\n",
    "    # ==================\n",
    "    model.min(sum(earliness_penalty*earliness) + sum(lateness_penalty*lateness))\n",
    "    \n",
    "    # Constraints\n",
    "    # ===========\n",
    "    # Since earliness, lateness > 0\n",
    "    # If scheduled_landing - target_landing >= 0, then earliness >= 0 & lateness == 0\n",
    "    # Else if scheduled_landing - target_landing <= 0, then earliness == 0 & lateness >= 0\n",
    "    model.st(target_landing - scheduled_landing == earliness - lateness)\n",
    "    \n",
    "    # Each aircraft has to land between its respective latest and earliest time slot\n",
    "    model.st(earliest_landing <= scheduled_landing)\n",
    "    model.st(scheduled_landing <= latest_landing)\n",
    "    \n",
    "    for j in range(num_aircraft):\n",
    "        for i in range(num_aircraft):\n",
    "            if i != j:\n",
    "                # The interval between 2 planes landing on the same runway must at least be equal to the separation time\n",
    "                model.st(\n",
    "                    scheduled_landing[j] - scheduled_landing[i] >= \n",
    "                    separation_time[i,j]*i_lands_on_same_runway_j[i,j] - M*i_lands_before_j[j,i]\n",
    "                )\n",
    "\n",
    "                # Every 2 planes must only either land before or after each other, not at the same time\n",
    "                model.st(i_lands_before_j[i,j] + i_lands_before_j[j,i] == 1)\n",
    "\n",
    "                # The link between i_lands_on_same_runway_j & runway_allocation\n",
    "                for r in range(num_runways):\n",
    "                    model.st(i_lands_on_same_runway_j[i,j] >= runway_allocation[i,r] + runway_allocation[j,r] - 1)\n",
    "    \n",
    "    # Aircraft size cannot be larger than max size of runway\n",
    "    for i in range(num_aircraft):\n",
    "        for r in range(num_runways):\n",
    "            model.st(aircraft_size[i] - runway_max_size[r] <= (1 - runway_allocation[i,r])*max_size_diff)\n",
    "            \n",
    "    # Each aircraft i must only be allocated 1 runway\n",
    "    for i in range(num_aircraft):\n",
    "        model.st(sum(runway_allocation[i,r] for r in range(num_runways)) == 1)\n",
    "\n",
    "    # Each aircraft i must be scheduled to land in a good weather time slot\n",
    "    model.st(scheduled_landing[i] == good_weather @ i_lands_in_g[i] for i in range(num_aircraft))\n",
    "    \n",
    "    # Each aircraft i must only land on 1 good weather time slot\n",
    "    model.st(i_lands_in_g[i].sum() == 1 for i in range(num_aircraft))\n",
    "    \n",
    "    # Non-negative constraints\n",
    "    model.st(\n",
    "        scheduled_landing >= 0,\n",
    "        earliness >= 0,\n",
    "        lateness >= 0\n",
    "    )\n",
    "    \n",
    "    # Getting model information\n",
    "    # =====================\n",
    "    print(model.do_math())\n",
    "    \n",
    "    # Solving model\n",
    "    # =============\n",
    "    model.solve(grb)\n",
    "    \n",
    "    # Output generation\n",
    "    # ================\n",
    "    return scheduled_landing.get(), runway_allocation.get(), earliness.get(), lateness.get(), model.get()"
   ]
  },
  {
   "cell_type": "code",
   "execution_count": 25,
   "id": "522d0273",
   "metadata": {
    "scrolled": true
   },
   "outputs": [
    {
     "name": "stdout",
     "output_type": "stream",
     "text": [
      "Conic program object:\n",
      "=============================================\n",
      "Number of variables:           706\n",
      "Continuous/binaries/integers:  46/660/0\n",
      "---------------------------------------------\n",
      "Number of linear constraints:  1156\n",
      "Inequalities/equalities:       886/270\n",
      "Number of coefficients:        3661\n",
      "---------------------------------------------\n",
      "Number of SOC constraints:     0\n",
      "---------------------------------------------\n",
      "Number of ExpCone constraints: 0\n",
      "\n",
      "Being solved by Gurobi...\n",
      "Solution status: 2\n",
      "Running time: 5.8420s\n"
     ]
    }
   ],
   "source": [
    "scheduled_landing, runway_allocation, earliness, lateness, total_cost = get_landing_schedule(separation_time, \n",
    "                                                                                             earliest_landing,\n",
    "                                                                                             target_landing,\n",
    "                                                                                             latest_landing,\n",
    "                                                                                             earliness_penalty,\n",
    "                                                                                             lateness_penalty,\n",
    "                                                                                             aircraft_size,\n",
    "                                                                                             runway_max_size,\n",
    "                                                                                             good_weather)"
   ]
  },
  {
   "cell_type": "markdown",
   "id": "4db280ad",
   "metadata": {},
   "source": [
    "# Output"
   ]
  },
  {
   "cell_type": "code",
   "execution_count": 26,
   "id": "d3994e36",
   "metadata": {
    "scrolled": false
   },
   "outputs": [
    {
     "name": "stdout",
     "output_type": "stream",
     "text": [
      "Total cost: 810.0\n",
      "Good weather: [ 2  3  5  6  7 10 12 14 15 16 17]\n",
      "All scheduled landings are in good weather: True\n"
     ]
    },
    {
     "data": {
      "text/html": [
       "<div>\n",
       "<style scoped>\n",
       "    .dataframe tbody tr th:only-of-type {\n",
       "        vertical-align: middle;\n",
       "    }\n",
       "\n",
       "    .dataframe tbody tr th {\n",
       "        vertical-align: top;\n",
       "    }\n",
       "\n",
       "    .dataframe thead th {\n",
       "        text-align: right;\n",
       "    }\n",
       "</style>\n",
       "<table border=\"1\" class=\"dataframe\">\n",
       "  <thead>\n",
       "    <tr style=\"text-align: right;\">\n",
       "      <th></th>\n",
       "      <th>Aircraft ID</th>\n",
       "      <th>Aircraft Size</th>\n",
       "      <th>Runway</th>\n",
       "      <th>Runway Max Size</th>\n",
       "      <th>Scheduled Landing</th>\n",
       "      <th>Target Landing</th>\n",
       "      <th>Earliest Landing</th>\n",
       "      <th>Latest Landing</th>\n",
       "      <th>Earliness</th>\n",
       "      <th>Lateness</th>\n",
       "    </tr>\n",
       "  </thead>\n",
       "  <tbody>\n",
       "    <tr>\n",
       "      <th>0</th>\n",
       "      <td>0</td>\n",
       "      <td>3</td>\n",
       "      <td>1</td>\n",
       "      <td>3</td>\n",
       "      <td>5.0</td>\n",
       "      <td>4</td>\n",
       "      <td>3</td>\n",
       "      <td>12</td>\n",
       "      <td>0.0</td>\n",
       "      <td>1.0</td>\n",
       "    </tr>\n",
       "    <tr>\n",
       "      <th>1</th>\n",
       "      <td>1</td>\n",
       "      <td>3</td>\n",
       "      <td>1</td>\n",
       "      <td>3</td>\n",
       "      <td>6.0</td>\n",
       "      <td>6</td>\n",
       "      <td>4</td>\n",
       "      <td>15</td>\n",
       "      <td>0.0</td>\n",
       "      <td>0.0</td>\n",
       "    </tr>\n",
       "    <tr>\n",
       "      <th>2</th>\n",
       "      <td>2</td>\n",
       "      <td>2</td>\n",
       "      <td>3</td>\n",
       "      <td>2</td>\n",
       "      <td>2.0</td>\n",
       "      <td>2</td>\n",
       "      <td>1</td>\n",
       "      <td>11</td>\n",
       "      <td>0.0</td>\n",
       "      <td>0.0</td>\n",
       "    </tr>\n",
       "    <tr>\n",
       "      <th>3</th>\n",
       "      <td>3</td>\n",
       "      <td>2</td>\n",
       "      <td>1</td>\n",
       "      <td>3</td>\n",
       "      <td>2.0</td>\n",
       "      <td>2</td>\n",
       "      <td>2</td>\n",
       "      <td>11</td>\n",
       "      <td>0.0</td>\n",
       "      <td>0.0</td>\n",
       "    </tr>\n",
       "    <tr>\n",
       "      <th>4</th>\n",
       "      <td>4</td>\n",
       "      <td>2</td>\n",
       "      <td>3</td>\n",
       "      <td>2</td>\n",
       "      <td>10.0</td>\n",
       "      <td>3</td>\n",
       "      <td>3</td>\n",
       "      <td>11</td>\n",
       "      <td>0.0</td>\n",
       "      <td>7.0</td>\n",
       "    </tr>\n",
       "    <tr>\n",
       "      <th>5</th>\n",
       "      <td>5</td>\n",
       "      <td>2</td>\n",
       "      <td>3</td>\n",
       "      <td>2</td>\n",
       "      <td>7.0</td>\n",
       "      <td>5</td>\n",
       "      <td>3</td>\n",
       "      <td>12</td>\n",
       "      <td>0.0</td>\n",
       "      <td>2.0</td>\n",
       "    </tr>\n",
       "    <tr>\n",
       "      <th>6</th>\n",
       "      <td>6</td>\n",
       "      <td>1</td>\n",
       "      <td>2</td>\n",
       "      <td>1</td>\n",
       "      <td>3.0</td>\n",
       "      <td>3</td>\n",
       "      <td>3</td>\n",
       "      <td>12</td>\n",
       "      <td>0.0</td>\n",
       "      <td>0.0</td>\n",
       "    </tr>\n",
       "    <tr>\n",
       "      <th>7</th>\n",
       "      <td>7</td>\n",
       "      <td>1</td>\n",
       "      <td>2</td>\n",
       "      <td>1</td>\n",
       "      <td>7.0</td>\n",
       "      <td>9</td>\n",
       "      <td>5</td>\n",
       "      <td>11</td>\n",
       "      <td>2.0</td>\n",
       "      <td>0.0</td>\n",
       "    </tr>\n",
       "    <tr>\n",
       "      <th>8</th>\n",
       "      <td>8</td>\n",
       "      <td>1</td>\n",
       "      <td>1</td>\n",
       "      <td>3</td>\n",
       "      <td>12.0</td>\n",
       "      <td>10</td>\n",
       "      <td>6</td>\n",
       "      <td>12</td>\n",
       "      <td>0.0</td>\n",
       "      <td>2.0</td>\n",
       "    </tr>\n",
       "    <tr>\n",
       "      <th>9</th>\n",
       "      <td>9</td>\n",
       "      <td>1</td>\n",
       "      <td>2</td>\n",
       "      <td>1</td>\n",
       "      <td>5.0</td>\n",
       "      <td>4</td>\n",
       "      <td>3</td>\n",
       "      <td>13</td>\n",
       "      <td>0.0</td>\n",
       "      <td>1.0</td>\n",
       "    </tr>\n",
       "    <tr>\n",
       "      <th>10</th>\n",
       "      <td>10</td>\n",
       "      <td>1</td>\n",
       "      <td>2</td>\n",
       "      <td>1</td>\n",
       "      <td>12.0</td>\n",
       "      <td>9</td>\n",
       "      <td>6</td>\n",
       "      <td>17</td>\n",
       "      <td>0.0</td>\n",
       "      <td>3.0</td>\n",
       "    </tr>\n",
       "    <tr>\n",
       "      <th>11</th>\n",
       "      <td>11</td>\n",
       "      <td>3</td>\n",
       "      <td>1</td>\n",
       "      <td>3</td>\n",
       "      <td>7.0</td>\n",
       "      <td>8</td>\n",
       "      <td>6</td>\n",
       "      <td>16</td>\n",
       "      <td>1.0</td>\n",
       "      <td>0.0</td>\n",
       "    </tr>\n",
       "    <tr>\n",
       "      <th>12</th>\n",
       "      <td>12</td>\n",
       "      <td>2</td>\n",
       "      <td>3</td>\n",
       "      <td>2</td>\n",
       "      <td>5.0</td>\n",
       "      <td>4</td>\n",
       "      <td>4</td>\n",
       "      <td>14</td>\n",
       "      <td>0.0</td>\n",
       "      <td>1.0</td>\n",
       "    </tr>\n",
       "    <tr>\n",
       "      <th>13</th>\n",
       "      <td>13</td>\n",
       "      <td>3</td>\n",
       "      <td>1</td>\n",
       "      <td>3</td>\n",
       "      <td>10.0</td>\n",
       "      <td>4</td>\n",
       "      <td>4</td>\n",
       "      <td>13</td>\n",
       "      <td>0.0</td>\n",
       "      <td>6.0</td>\n",
       "    </tr>\n",
       "    <tr>\n",
       "      <th>14</th>\n",
       "      <td>14</td>\n",
       "      <td>1</td>\n",
       "      <td>2</td>\n",
       "      <td>1</td>\n",
       "      <td>10.0</td>\n",
       "      <td>7</td>\n",
       "      <td>6</td>\n",
       "      <td>17</td>\n",
       "      <td>0.0</td>\n",
       "      <td>3.0</td>\n",
       "    </tr>\n",
       "  </tbody>\n",
       "</table>\n",
       "</div>"
      ],
      "text/plain": [
       "    Aircraft ID  Aircraft Size  Runway  Runway Max Size  Scheduled Landing   \n",
       "0             0              3       1                3                5.0  \\\n",
       "1             1              3       1                3                6.0   \n",
       "2             2              2       3                2                2.0   \n",
       "3             3              2       1                3                2.0   \n",
       "4             4              2       3                2               10.0   \n",
       "5             5              2       3                2                7.0   \n",
       "6             6              1       2                1                3.0   \n",
       "7             7              1       2                1                7.0   \n",
       "8             8              1       1                3               12.0   \n",
       "9             9              1       2                1                5.0   \n",
       "10           10              1       2                1               12.0   \n",
       "11           11              3       1                3                7.0   \n",
       "12           12              2       3                2                5.0   \n",
       "13           13              3       1                3               10.0   \n",
       "14           14              1       2                1               10.0   \n",
       "\n",
       "    Target Landing  Earliest Landing  Latest Landing  Earliness  Lateness  \n",
       "0                4                 3              12        0.0       1.0  \n",
       "1                6                 4              15        0.0       0.0  \n",
       "2                2                 1              11        0.0       0.0  \n",
       "3                2                 2              11        0.0       0.0  \n",
       "4                3                 3              11        0.0       7.0  \n",
       "5                5                 3              12        0.0       2.0  \n",
       "6                3                 3              12        0.0       0.0  \n",
       "7                9                 5              11        2.0       0.0  \n",
       "8               10                 6              12        0.0       2.0  \n",
       "9                4                 3              13        0.0       1.0  \n",
       "10               9                 6              17        0.0       3.0  \n",
       "11               8                 6              16        1.0       0.0  \n",
       "12               4                 4              14        0.0       1.0  \n",
       "13               4                 4              13        0.0       6.0  \n",
       "14               7                 6              17        0.0       3.0  "
      ]
     },
     "execution_count": 26,
     "metadata": {},
     "output_type": "execute_result"
    }
   ],
   "source": [
    "# Generate output data frame\n",
    "output_df = pd.DataFrame({\n",
    "    \"Aircraft ID\": aircraft_df[\"Aircraft ID\"].values,\n",
    "    \"Aircraft Size\": aircraft_size,\n",
    "    \"Runway\": np.argmax(runway_allocation, axis=1) + 1,\n",
    "    \"Scheduled Landing\": scheduled_landing,\n",
    "    \"Target Landing\": target_landing,\n",
    "    \"Earliest Landing\": earliest_landing,\n",
    "    \"Latest Landing\": latest_landing,\n",
    "    \"Earliness\": earliness,\n",
    "    \"Lateness\": lateness\n",
    "})\n",
    "\n",
    "print(\"Total cost:\", total_cost)\n",
    "print(\"Good weather:\", good_weather)\n",
    "print(\"All scheduled landings are in good weather:\", all([i in good_weather for i in scheduled_landing]))\n",
    "\n",
    "# Creating a new column for runway max size and shifting it to the 4th column\n",
    "output_df[\"Runway Max Size\"] = output_df['Runway'].apply(lambda x: runway_max_size[x-1])\n",
    "temp = output_df[\"Runway Max Size\"]\n",
    "output_df.drop(labels=[\"Runway Max Size\"], axis=1, inplace=True)\n",
    "output_df.insert(3, \"Runway Max Size\", temp)\n",
    "output_df"
   ]
  },
  {
   "cell_type": "markdown",
   "id": "a3a92978",
   "metadata": {},
   "source": [
    "The output above shows the allocated runways and scheduled landing slots for each aircraft. As observed, all aircraft are scheduled to land in good weather. No aircraft is allocated to a runway that is smaller than it. All scheduled landings also fall between the respective earliest and latest landings. The difference between the scheduled landing and target landing for each aircraft is indicated by the earliness and lateness columns."
   ]
  },
  {
   "cell_type": "markdown",
   "id": "f0e85e26",
   "metadata": {},
   "source": [
    "# Re-running with Different Data"
   ]
  },
  {
   "cell_type": "markdown",
   "id": "4976b4db",
   "metadata": {},
   "source": [
    "Let's try to change some input data. Specifically, let's modify some earliest and target landing times for some of the aircraft. The values modified are listed as follows:\n",
    "* Aircraft 5\n",
    "    * Target landing changed from 5 to 3.\n",
    "* Aircraft 7\n",
    "    * Earliest landing changed from 5 to 3.\n",
    "    * Target landing changed from 9 to 3.\n",
    "* Aircraft 8\n",
    "    * Earliest landing changed from 6 to 3.\n",
    "    * Target landing changed from 10 to 3.\n",
    "* Aircraft 10\n",
    "    * Target landing changed from 9 to 7.\n",
    "* Aircraft 11\n",
    "    * Target landing changed from 8 to 7.\n",
    "\n",
    "The modified aircraft data is found in a file called `aircraft_v2.csv`."
   ]
  },
  {
   "cell_type": "code",
   "execution_count": 27,
   "id": "79741e8a",
   "metadata": {},
   "outputs": [],
   "source": [
    "aircraft_df = pd.read_csv(\"aircraft_v2.csv\")\n",
    "\n",
    "earliest_landing = aircraft_df[\"Earliest Landing Slot\"].values\n",
    "target_landing = aircraft_df[\"Target Landing Slot\"].values\n",
    "latest_landing = aircraft_df[\"Latest Landing Slot\"].values\n",
    "earliness_penalty = aircraft_df[\"Earliness Penalty\"].values\n",
    "lateness_penalty = aircraft_df[\"Lateness Penalty\"].values\n",
    "aircraft_size = aircraft_df[\"Size\"].values"
   ]
  },
  {
   "cell_type": "code",
   "execution_count": 31,
   "id": "7baf758d",
   "metadata": {},
   "outputs": [
    {
     "data": {
      "text/html": [
       "<div>\n",
       "<style scoped>\n",
       "    .dataframe tbody tr th:only-of-type {\n",
       "        vertical-align: middle;\n",
       "    }\n",
       "\n",
       "    .dataframe tbody tr th {\n",
       "        vertical-align: top;\n",
       "    }\n",
       "\n",
       "    .dataframe thead th {\n",
       "        text-align: right;\n",
       "    }\n",
       "</style>\n",
       "<table border=\"1\" class=\"dataframe\">\n",
       "  <thead>\n",
       "    <tr style=\"text-align: right;\">\n",
       "      <th></th>\n",
       "      <th>Aircraft ID</th>\n",
       "      <th>Earliest Landing Slot</th>\n",
       "      <th>Target Landing Slot</th>\n",
       "      <th>Latest Landing Slot</th>\n",
       "      <th>Earliness Penalty</th>\n",
       "      <th>Lateness Penalty</th>\n",
       "      <th>Size</th>\n",
       "    </tr>\n",
       "  </thead>\n",
       "  <tbody>\n",
       "    <tr>\n",
       "      <th>0</th>\n",
       "      <td>0</td>\n",
       "      <td>3</td>\n",
       "      <td>4</td>\n",
       "      <td>12</td>\n",
       "      <td>10</td>\n",
       "      <td>30</td>\n",
       "      <td>3</td>\n",
       "    </tr>\n",
       "    <tr>\n",
       "      <th>1</th>\n",
       "      <td>1</td>\n",
       "      <td>4</td>\n",
       "      <td>6</td>\n",
       "      <td>15</td>\n",
       "      <td>10</td>\n",
       "      <td>30</td>\n",
       "      <td>3</td>\n",
       "    </tr>\n",
       "    <tr>\n",
       "      <th>2</th>\n",
       "      <td>2</td>\n",
       "      <td>1</td>\n",
       "      <td>2</td>\n",
       "      <td>11</td>\n",
       "      <td>10</td>\n",
       "      <td>30</td>\n",
       "      <td>2</td>\n",
       "    </tr>\n",
       "    <tr>\n",
       "      <th>3</th>\n",
       "      <td>3</td>\n",
       "      <td>2</td>\n",
       "      <td>2</td>\n",
       "      <td>11</td>\n",
       "      <td>10</td>\n",
       "      <td>30</td>\n",
       "      <td>2</td>\n",
       "    </tr>\n",
       "    <tr>\n",
       "      <th>4</th>\n",
       "      <td>4</td>\n",
       "      <td>3</td>\n",
       "      <td>3</td>\n",
       "      <td>11</td>\n",
       "      <td>10</td>\n",
       "      <td>30</td>\n",
       "      <td>2</td>\n",
       "    </tr>\n",
       "    <tr>\n",
       "      <th>5</th>\n",
       "      <td>5</td>\n",
       "      <td>3</td>\n",
       "      <td>3</td>\n",
       "      <td>12</td>\n",
       "      <td>10</td>\n",
       "      <td>30</td>\n",
       "      <td>2</td>\n",
       "    </tr>\n",
       "    <tr>\n",
       "      <th>6</th>\n",
       "      <td>6</td>\n",
       "      <td>3</td>\n",
       "      <td>3</td>\n",
       "      <td>12</td>\n",
       "      <td>10</td>\n",
       "      <td>30</td>\n",
       "      <td>1</td>\n",
       "    </tr>\n",
       "    <tr>\n",
       "      <th>7</th>\n",
       "      <td>7</td>\n",
       "      <td>3</td>\n",
       "      <td>3</td>\n",
       "      <td>11</td>\n",
       "      <td>10</td>\n",
       "      <td>30</td>\n",
       "      <td>1</td>\n",
       "    </tr>\n",
       "    <tr>\n",
       "      <th>8</th>\n",
       "      <td>8</td>\n",
       "      <td>3</td>\n",
       "      <td>3</td>\n",
       "      <td>12</td>\n",
       "      <td>10</td>\n",
       "      <td>30</td>\n",
       "      <td>1</td>\n",
       "    </tr>\n",
       "    <tr>\n",
       "      <th>9</th>\n",
       "      <td>9</td>\n",
       "      <td>3</td>\n",
       "      <td>4</td>\n",
       "      <td>13</td>\n",
       "      <td>10</td>\n",
       "      <td>30</td>\n",
       "      <td>1</td>\n",
       "    </tr>\n",
       "    <tr>\n",
       "      <th>10</th>\n",
       "      <td>10</td>\n",
       "      <td>6</td>\n",
       "      <td>7</td>\n",
       "      <td>17</td>\n",
       "      <td>10</td>\n",
       "      <td>30</td>\n",
       "      <td>1</td>\n",
       "    </tr>\n",
       "    <tr>\n",
       "      <th>11</th>\n",
       "      <td>11</td>\n",
       "      <td>6</td>\n",
       "      <td>7</td>\n",
       "      <td>16</td>\n",
       "      <td>10</td>\n",
       "      <td>30</td>\n",
       "      <td>3</td>\n",
       "    </tr>\n",
       "    <tr>\n",
       "      <th>12</th>\n",
       "      <td>12</td>\n",
       "      <td>4</td>\n",
       "      <td>4</td>\n",
       "      <td>14</td>\n",
       "      <td>10</td>\n",
       "      <td>30</td>\n",
       "      <td>2</td>\n",
       "    </tr>\n",
       "    <tr>\n",
       "      <th>13</th>\n",
       "      <td>13</td>\n",
       "      <td>4</td>\n",
       "      <td>4</td>\n",
       "      <td>13</td>\n",
       "      <td>10</td>\n",
       "      <td>30</td>\n",
       "      <td>3</td>\n",
       "    </tr>\n",
       "    <tr>\n",
       "      <th>14</th>\n",
       "      <td>14</td>\n",
       "      <td>6</td>\n",
       "      <td>7</td>\n",
       "      <td>17</td>\n",
       "      <td>10</td>\n",
       "      <td>30</td>\n",
       "      <td>1</td>\n",
       "    </tr>\n",
       "  </tbody>\n",
       "</table>\n",
       "</div>"
      ],
      "text/plain": [
       "    Aircraft ID  Earliest Landing Slot  Target Landing Slot   \n",
       "0             0                      3                    4  \\\n",
       "1             1                      4                    6   \n",
       "2             2                      1                    2   \n",
       "3             3                      2                    2   \n",
       "4             4                      3                    3   \n",
       "5             5                      3                    3   \n",
       "6             6                      3                    3   \n",
       "7             7                      3                    3   \n",
       "8             8                      3                    3   \n",
       "9             9                      3                    4   \n",
       "10           10                      6                    7   \n",
       "11           11                      6                    7   \n",
       "12           12                      4                    4   \n",
       "13           13                      4                    4   \n",
       "14           14                      6                    7   \n",
       "\n",
       "    Latest Landing Slot  Earliness Penalty  Lateness Penalty  Size  \n",
       "0                    12                 10                30     3  \n",
       "1                    15                 10                30     3  \n",
       "2                    11                 10                30     2  \n",
       "3                    11                 10                30     2  \n",
       "4                    11                 10                30     2  \n",
       "5                    12                 10                30     2  \n",
       "6                    12                 10                30     1  \n",
       "7                    11                 10                30     1  \n",
       "8                    12                 10                30     1  \n",
       "9                    13                 10                30     1  \n",
       "10                   17                 10                30     1  \n",
       "11                   16                 10                30     3  \n",
       "12                   14                 10                30     2  \n",
       "13                   13                 10                30     3  \n",
       "14                   17                 10                30     1  "
      ]
     },
     "execution_count": 31,
     "metadata": {},
     "output_type": "execute_result"
    }
   ],
   "source": [
    "aircraft_df"
   ]
  },
  {
   "cell_type": "code",
   "execution_count": 28,
   "id": "17ac6194",
   "metadata": {},
   "outputs": [
    {
     "name": "stdout",
     "output_type": "stream",
     "text": [
      "Conic program object:\n",
      "=============================================\n",
      "Number of variables:           706\n",
      "Continuous/binaries/integers:  46/660/0\n",
      "---------------------------------------------\n",
      "Number of linear constraints:  1156\n",
      "Inequalities/equalities:       886/270\n",
      "Number of coefficients:        3661\n",
      "---------------------------------------------\n",
      "Number of SOC constraints:     0\n",
      "---------------------------------------------\n",
      "Number of ExpCone constraints: 0\n",
      "\n",
      "Being solved by Gurobi...\n",
      "Solution status: 2\n",
      "Running time: 375.4950s\n"
     ]
    }
   ],
   "source": [
    "scheduled_landing, runway_allocation, earliness, lateness, total_cost = get_landing_schedule(separation_time, \n",
    "                                                                                             earliest_landing,\n",
    "                                                                                             target_landing,\n",
    "                                                                                             latest_landing,\n",
    "                                                                                             earliness_penalty,\n",
    "                                                                                             lateness_penalty,\n",
    "                                                                                             aircraft_size,\n",
    "                                                                                             runway_max_size,\n",
    "                                                                                             good_weather)"
   ]
  },
  {
   "cell_type": "markdown",
   "id": "d8e12d79",
   "metadata": {},
   "source": [
    "As expected, the model arrives at a solution much more quickly when there is less input data."
   ]
  },
  {
   "cell_type": "code",
   "execution_count": 32,
   "id": "67b1796e",
   "metadata": {},
   "outputs": [
    {
     "name": "stdout",
     "output_type": "stream",
     "text": [
      "Total cost: 1230.0\n",
      "Good weather: [ 2  3  5  6  7 10 12 14 15 16 17]\n",
      "All scheduled landings are in good weather: True\n"
     ]
    },
    {
     "data": {
      "text/html": [
       "<div>\n",
       "<style scoped>\n",
       "    .dataframe tbody tr th:only-of-type {\n",
       "        vertical-align: middle;\n",
       "    }\n",
       "\n",
       "    .dataframe tbody tr th {\n",
       "        vertical-align: top;\n",
       "    }\n",
       "\n",
       "    .dataframe thead th {\n",
       "        text-align: right;\n",
       "    }\n",
       "</style>\n",
       "<table border=\"1\" class=\"dataframe\">\n",
       "  <thead>\n",
       "    <tr style=\"text-align: right;\">\n",
       "      <th></th>\n",
       "      <th>Aircraft ID</th>\n",
       "      <th>Aircraft Size</th>\n",
       "      <th>Runway</th>\n",
       "      <th>Runway Max Size</th>\n",
       "      <th>Scheduled Landing</th>\n",
       "      <th>Earliest Landing</th>\n",
       "      <th>Latest Landing</th>\n",
       "      <th>Earliness</th>\n",
       "      <th>Lateness</th>\n",
       "    </tr>\n",
       "  </thead>\n",
       "  <tbody>\n",
       "    <tr>\n",
       "      <th>0</th>\n",
       "      <td>0</td>\n",
       "      <td>3</td>\n",
       "      <td>1</td>\n",
       "      <td>3</td>\n",
       "      <td>5.0</td>\n",
       "      <td>3</td>\n",
       "      <td>12</td>\n",
       "      <td>0.0</td>\n",
       "      <td>1.0</td>\n",
       "    </tr>\n",
       "    <tr>\n",
       "      <th>1</th>\n",
       "      <td>1</td>\n",
       "      <td>3</td>\n",
       "      <td>1</td>\n",
       "      <td>3</td>\n",
       "      <td>6.0</td>\n",
       "      <td>4</td>\n",
       "      <td>15</td>\n",
       "      <td>0.0</td>\n",
       "      <td>0.0</td>\n",
       "    </tr>\n",
       "    <tr>\n",
       "      <th>2</th>\n",
       "      <td>2</td>\n",
       "      <td>2</td>\n",
       "      <td>1</td>\n",
       "      <td>3</td>\n",
       "      <td>2.0</td>\n",
       "      <td>1</td>\n",
       "      <td>11</td>\n",
       "      <td>0.0</td>\n",
       "      <td>0.0</td>\n",
       "    </tr>\n",
       "    <tr>\n",
       "      <th>3</th>\n",
       "      <td>3</td>\n",
       "      <td>2</td>\n",
       "      <td>3</td>\n",
       "      <td>2</td>\n",
       "      <td>2.0</td>\n",
       "      <td>2</td>\n",
       "      <td>11</td>\n",
       "      <td>0.0</td>\n",
       "      <td>0.0</td>\n",
       "    </tr>\n",
       "    <tr>\n",
       "      <th>4</th>\n",
       "      <td>4</td>\n",
       "      <td>2</td>\n",
       "      <td>3</td>\n",
       "      <td>2</td>\n",
       "      <td>10.0</td>\n",
       "      <td>3</td>\n",
       "      <td>11</td>\n",
       "      <td>0.0</td>\n",
       "      <td>7.0</td>\n",
       "    </tr>\n",
       "    <tr>\n",
       "      <th>5</th>\n",
       "      <td>5</td>\n",
       "      <td>2</td>\n",
       "      <td>1</td>\n",
       "      <td>3</td>\n",
       "      <td>10.0</td>\n",
       "      <td>3</td>\n",
       "      <td>12</td>\n",
       "      <td>0.0</td>\n",
       "      <td>7.0</td>\n",
       "    </tr>\n",
       "    <tr>\n",
       "      <th>6</th>\n",
       "      <td>6</td>\n",
       "      <td>1</td>\n",
       "      <td>2</td>\n",
       "      <td>1</td>\n",
       "      <td>3.0</td>\n",
       "      <td>3</td>\n",
       "      <td>12</td>\n",
       "      <td>0.0</td>\n",
       "      <td>0.0</td>\n",
       "    </tr>\n",
       "    <tr>\n",
       "      <th>7</th>\n",
       "      <td>7</td>\n",
       "      <td>1</td>\n",
       "      <td>2</td>\n",
       "      <td>1</td>\n",
       "      <td>7.0</td>\n",
       "      <td>3</td>\n",
       "      <td>11</td>\n",
       "      <td>0.0</td>\n",
       "      <td>4.0</td>\n",
       "    </tr>\n",
       "    <tr>\n",
       "      <th>8</th>\n",
       "      <td>8</td>\n",
       "      <td>1</td>\n",
       "      <td>3</td>\n",
       "      <td>2</td>\n",
       "      <td>7.0</td>\n",
       "      <td>3</td>\n",
       "      <td>12</td>\n",
       "      <td>0.0</td>\n",
       "      <td>4.0</td>\n",
       "    </tr>\n",
       "    <tr>\n",
       "      <th>9</th>\n",
       "      <td>9</td>\n",
       "      <td>1</td>\n",
       "      <td>2</td>\n",
       "      <td>1</td>\n",
       "      <td>5.0</td>\n",
       "      <td>3</td>\n",
       "      <td>13</td>\n",
       "      <td>0.0</td>\n",
       "      <td>1.0</td>\n",
       "    </tr>\n",
       "    <tr>\n",
       "      <th>10</th>\n",
       "      <td>10</td>\n",
       "      <td>1</td>\n",
       "      <td>2</td>\n",
       "      <td>1</td>\n",
       "      <td>10.0</td>\n",
       "      <td>6</td>\n",
       "      <td>17</td>\n",
       "      <td>0.0</td>\n",
       "      <td>3.0</td>\n",
       "    </tr>\n",
       "    <tr>\n",
       "      <th>11</th>\n",
       "      <td>11</td>\n",
       "      <td>3</td>\n",
       "      <td>1</td>\n",
       "      <td>3</td>\n",
       "      <td>7.0</td>\n",
       "      <td>6</td>\n",
       "      <td>16</td>\n",
       "      <td>0.0</td>\n",
       "      <td>0.0</td>\n",
       "    </tr>\n",
       "    <tr>\n",
       "      <th>12</th>\n",
       "      <td>12</td>\n",
       "      <td>2</td>\n",
       "      <td>3</td>\n",
       "      <td>2</td>\n",
       "      <td>5.0</td>\n",
       "      <td>4</td>\n",
       "      <td>14</td>\n",
       "      <td>0.0</td>\n",
       "      <td>1.0</td>\n",
       "    </tr>\n",
       "    <tr>\n",
       "      <th>13</th>\n",
       "      <td>13</td>\n",
       "      <td>3</td>\n",
       "      <td>1</td>\n",
       "      <td>3</td>\n",
       "      <td>12.0</td>\n",
       "      <td>4</td>\n",
       "      <td>13</td>\n",
       "      <td>0.0</td>\n",
       "      <td>8.0</td>\n",
       "    </tr>\n",
       "    <tr>\n",
       "      <th>14</th>\n",
       "      <td>14</td>\n",
       "      <td>1</td>\n",
       "      <td>2</td>\n",
       "      <td>1</td>\n",
       "      <td>12.0</td>\n",
       "      <td>6</td>\n",
       "      <td>17</td>\n",
       "      <td>0.0</td>\n",
       "      <td>5.0</td>\n",
       "    </tr>\n",
       "  </tbody>\n",
       "</table>\n",
       "</div>"
      ],
      "text/plain": [
       "    Aircraft ID  Aircraft Size  Runway  Runway Max Size  Scheduled Landing   \n",
       "0             0              3       1                3                5.0  \\\n",
       "1             1              3       1                3                6.0   \n",
       "2             2              2       1                3                2.0   \n",
       "3             3              2       3                2                2.0   \n",
       "4             4              2       3                2               10.0   \n",
       "5             5              2       1                3               10.0   \n",
       "6             6              1       2                1                3.0   \n",
       "7             7              1       2                1                7.0   \n",
       "8             8              1       3                2                7.0   \n",
       "9             9              1       2                1                5.0   \n",
       "10           10              1       2                1               10.0   \n",
       "11           11              3       1                3                7.0   \n",
       "12           12              2       3                2                5.0   \n",
       "13           13              3       1                3               12.0   \n",
       "14           14              1       2                1               12.0   \n",
       "\n",
       "    Earliest Landing  Latest Landing  Earliness  Lateness  \n",
       "0                  3              12        0.0       1.0  \n",
       "1                  4              15        0.0       0.0  \n",
       "2                  1              11        0.0       0.0  \n",
       "3                  2              11        0.0       0.0  \n",
       "4                  3              11        0.0       7.0  \n",
       "5                  3              12        0.0       7.0  \n",
       "6                  3              12        0.0       0.0  \n",
       "7                  3              11        0.0       4.0  \n",
       "8                  3              12        0.0       4.0  \n",
       "9                  3              13        0.0       1.0  \n",
       "10                 6              17        0.0       3.0  \n",
       "11                 6              16        0.0       0.0  \n",
       "12                 4              14        0.0       1.0  \n",
       "13                 4              13        0.0       8.0  \n",
       "14                 6              17        0.0       5.0  "
      ]
     },
     "execution_count": 32,
     "metadata": {},
     "output_type": "execute_result"
    }
   ],
   "source": [
    "output_df = pd.DataFrame({\n",
    "    \"Aircraft ID\": aircraft_df[\"Aircraft ID\"].values,\n",
    "    \"Aircraft Size\": aircraft_size,\n",
    "    \"Runway\": np.argmax(runway_allocation, axis=1) + 1,\n",
    "    \"Scheduled Landing\": scheduled_landing,\n",
    "    \"Earliest Landing\": earliest_landing,\n",
    "    \"Latest Landing\": latest_landing,\n",
    "    \"Earliness\": earliness,\n",
    "    \"Lateness\": lateness\n",
    "})\n",
    "\n",
    "print(\"Total cost:\", total_cost)\n",
    "print(\"Good weather:\", good_weather)\n",
    "print(\"All scheduled landings are in good weather:\", all([i in good_weather for i in scheduled_landing]))\n",
    "\n",
    "output_df[\"Runway Max Size\"] = output_df['Runway'].apply(lambda x: runway_max_size[x-1])\n",
    "temp = output_df[\"Runway Max Size\"]\n",
    "output_df.drop(labels=[\"Runway Max Size\"], axis=1, inplace=True)\n",
    "output_df.insert(3, \"Runway Max Size\", temp)\n",
    "output_df"
   ]
  },
  {
   "cell_type": "markdown",
   "id": "63dc95ab",
   "metadata": {},
   "source": [
    "# Visualisation of Results"
   ]
  },
  {
   "cell_type": "code",
   "execution_count": 15,
   "id": "10f9fe8e",
   "metadata": {},
   "outputs": [],
   "source": [
    "import plotly.express as px"
   ]
  },
  {
   "cell_type": "code",
   "execution_count": 37,
   "id": "78255bd8",
   "metadata": {
    "scrolled": false
   },
   "outputs": [],
   "source": [
    "results_df = output_df[[\"Aircraft ID\", \"Runway\", \"Scheduled Landing\", \"Target Landing\"]]"
   ]
  },
  {
   "cell_type": "code",
   "execution_count": 38,
   "id": "d53bcba4",
   "metadata": {},
   "outputs": [],
   "source": [
    "results_df = results_df.astype({\"Aircraft ID\": int, \"Runway\": str, \"Scheduled Landing\": int})\n",
    "results_df = results_df.sort_values(by=[\"Runway\"])"
   ]
  },
  {
   "cell_type": "code",
   "execution_count": 39,
   "id": "b4be9ad2",
   "metadata": {},
   "outputs": [
    {
     "data": {
      "application/vnd.plotly.v1+json": {
       "config": {
        "plotlyServerURL": "https://plot.ly"
       },
       "data": [
        {
         "customdata": [
          [
           0,
           4
          ],
          [
           1,
           6
          ],
          [
           3,
           2
          ],
          [
           8,
           10
          ],
          [
           11,
           8
          ],
          [
           13,
           4
          ]
         ],
         "hovertemplate": "Runway=%{y}<br>Scheduled Landing=%{x}<br>Aircraft ID=%{customdata[0]}<br>Target Landing=%{customdata[1]}<extra></extra>",
         "legendgroup": "1",
         "marker": {
          "color": "#636efa",
          "symbol": "circle"
         },
         "mode": "markers+text",
         "name": "1",
         "orientation": "h",
         "showlegend": true,
         "text": [
          0,
          1,
          3,
          8,
          11,
          13
         ],
         "textposition": "top center",
         "type": "scatter",
         "x": [
          5,
          6,
          2,
          12,
          7,
          10
         ],
         "xaxis": "x",
         "y": [
          "1",
          "1",
          "1",
          "1",
          "1",
          "1"
         ],
         "yaxis": "y"
        },
        {
         "customdata": [
          [
           6,
           3
          ],
          [
           7,
           9
          ],
          [
           9,
           4
          ],
          [
           10,
           9
          ],
          [
           14,
           7
          ]
         ],
         "hovertemplate": "Runway=%{y}<br>Scheduled Landing=%{x}<br>Aircraft ID=%{customdata[0]}<br>Target Landing=%{customdata[1]}<extra></extra>",
         "legendgroup": "2",
         "marker": {
          "color": "#EF553B",
          "symbol": "diamond"
         },
         "mode": "markers+text",
         "name": "2",
         "orientation": "h",
         "showlegend": true,
         "text": [
          6,
          7,
          9,
          10,
          14
         ],
         "textposition": "top center",
         "type": "scatter",
         "x": [
          3,
          7,
          5,
          12,
          10
         ],
         "xaxis": "x",
         "y": [
          "2",
          "2",
          "2",
          "2",
          "2"
         ],
         "yaxis": "y"
        },
        {
         "customdata": [
          [
           2,
           2
          ],
          [
           4,
           3
          ],
          [
           5,
           5
          ],
          [
           12,
           4
          ]
         ],
         "hovertemplate": "Runway=%{y}<br>Scheduled Landing=%{x}<br>Aircraft ID=%{customdata[0]}<br>Target Landing=%{customdata[1]}<extra></extra>",
         "legendgroup": "3",
         "marker": {
          "color": "#00cc96",
          "symbol": "square"
         },
         "mode": "markers+text",
         "name": "3",
         "orientation": "h",
         "showlegend": true,
         "text": [
          2,
          4,
          5,
          12
         ],
         "textposition": "top center",
         "type": "scatter",
         "x": [
          2,
          10,
          7,
          5
         ],
         "xaxis": "x",
         "y": [
          "3",
          "3",
          "3",
          "3"
         ],
         "yaxis": "y"
        }
       ],
       "layout": {
        "legend": {
         "title": {
          "text": "Runway"
         },
         "tracegroupgap": 0
        },
        "margin": {
         "t": 60
        },
        "template": {
         "data": {
          "bar": [
           {
            "error_x": {
             "color": "#2a3f5f"
            },
            "error_y": {
             "color": "#2a3f5f"
            },
            "marker": {
             "line": {
              "color": "#E5ECF6",
              "width": 0.5
             },
             "pattern": {
              "fillmode": "overlay",
              "size": 10,
              "solidity": 0.2
             }
            },
            "type": "bar"
           }
          ],
          "barpolar": [
           {
            "marker": {
             "line": {
              "color": "#E5ECF6",
              "width": 0.5
             },
             "pattern": {
              "fillmode": "overlay",
              "size": 10,
              "solidity": 0.2
             }
            },
            "type": "barpolar"
           }
          ],
          "carpet": [
           {
            "aaxis": {
             "endlinecolor": "#2a3f5f",
             "gridcolor": "white",
             "linecolor": "white",
             "minorgridcolor": "white",
             "startlinecolor": "#2a3f5f"
            },
            "baxis": {
             "endlinecolor": "#2a3f5f",
             "gridcolor": "white",
             "linecolor": "white",
             "minorgridcolor": "white",
             "startlinecolor": "#2a3f5f"
            },
            "type": "carpet"
           }
          ],
          "choropleth": [
           {
            "colorbar": {
             "outlinewidth": 0,
             "ticks": ""
            },
            "type": "choropleth"
           }
          ],
          "contour": [
           {
            "colorbar": {
             "outlinewidth": 0,
             "ticks": ""
            },
            "colorscale": [
             [
              0,
              "#0d0887"
             ],
             [
              0.1111111111111111,
              "#46039f"
             ],
             [
              0.2222222222222222,
              "#7201a8"
             ],
             [
              0.3333333333333333,
              "#9c179e"
             ],
             [
              0.4444444444444444,
              "#bd3786"
             ],
             [
              0.5555555555555556,
              "#d8576b"
             ],
             [
              0.6666666666666666,
              "#ed7953"
             ],
             [
              0.7777777777777778,
              "#fb9f3a"
             ],
             [
              0.8888888888888888,
              "#fdca26"
             ],
             [
              1,
              "#f0f921"
             ]
            ],
            "type": "contour"
           }
          ],
          "contourcarpet": [
           {
            "colorbar": {
             "outlinewidth": 0,
             "ticks": ""
            },
            "type": "contourcarpet"
           }
          ],
          "heatmap": [
           {
            "colorbar": {
             "outlinewidth": 0,
             "ticks": ""
            },
            "colorscale": [
             [
              0,
              "#0d0887"
             ],
             [
              0.1111111111111111,
              "#46039f"
             ],
             [
              0.2222222222222222,
              "#7201a8"
             ],
             [
              0.3333333333333333,
              "#9c179e"
             ],
             [
              0.4444444444444444,
              "#bd3786"
             ],
             [
              0.5555555555555556,
              "#d8576b"
             ],
             [
              0.6666666666666666,
              "#ed7953"
             ],
             [
              0.7777777777777778,
              "#fb9f3a"
             ],
             [
              0.8888888888888888,
              "#fdca26"
             ],
             [
              1,
              "#f0f921"
             ]
            ],
            "type": "heatmap"
           }
          ],
          "heatmapgl": [
           {
            "colorbar": {
             "outlinewidth": 0,
             "ticks": ""
            },
            "colorscale": [
             [
              0,
              "#0d0887"
             ],
             [
              0.1111111111111111,
              "#46039f"
             ],
             [
              0.2222222222222222,
              "#7201a8"
             ],
             [
              0.3333333333333333,
              "#9c179e"
             ],
             [
              0.4444444444444444,
              "#bd3786"
             ],
             [
              0.5555555555555556,
              "#d8576b"
             ],
             [
              0.6666666666666666,
              "#ed7953"
             ],
             [
              0.7777777777777778,
              "#fb9f3a"
             ],
             [
              0.8888888888888888,
              "#fdca26"
             ],
             [
              1,
              "#f0f921"
             ]
            ],
            "type": "heatmapgl"
           }
          ],
          "histogram": [
           {
            "marker": {
             "pattern": {
              "fillmode": "overlay",
              "size": 10,
              "solidity": 0.2
             }
            },
            "type": "histogram"
           }
          ],
          "histogram2d": [
           {
            "colorbar": {
             "outlinewidth": 0,
             "ticks": ""
            },
            "colorscale": [
             [
              0,
              "#0d0887"
             ],
             [
              0.1111111111111111,
              "#46039f"
             ],
             [
              0.2222222222222222,
              "#7201a8"
             ],
             [
              0.3333333333333333,
              "#9c179e"
             ],
             [
              0.4444444444444444,
              "#bd3786"
             ],
             [
              0.5555555555555556,
              "#d8576b"
             ],
             [
              0.6666666666666666,
              "#ed7953"
             ],
             [
              0.7777777777777778,
              "#fb9f3a"
             ],
             [
              0.8888888888888888,
              "#fdca26"
             ],
             [
              1,
              "#f0f921"
             ]
            ],
            "type": "histogram2d"
           }
          ],
          "histogram2dcontour": [
           {
            "colorbar": {
             "outlinewidth": 0,
             "ticks": ""
            },
            "colorscale": [
             [
              0,
              "#0d0887"
             ],
             [
              0.1111111111111111,
              "#46039f"
             ],
             [
              0.2222222222222222,
              "#7201a8"
             ],
             [
              0.3333333333333333,
              "#9c179e"
             ],
             [
              0.4444444444444444,
              "#bd3786"
             ],
             [
              0.5555555555555556,
              "#d8576b"
             ],
             [
              0.6666666666666666,
              "#ed7953"
             ],
             [
              0.7777777777777778,
              "#fb9f3a"
             ],
             [
              0.8888888888888888,
              "#fdca26"
             ],
             [
              1,
              "#f0f921"
             ]
            ],
            "type": "histogram2dcontour"
           }
          ],
          "mesh3d": [
           {
            "colorbar": {
             "outlinewidth": 0,
             "ticks": ""
            },
            "type": "mesh3d"
           }
          ],
          "parcoords": [
           {
            "line": {
             "colorbar": {
              "outlinewidth": 0,
              "ticks": ""
             }
            },
            "type": "parcoords"
           }
          ],
          "pie": [
           {
            "automargin": true,
            "type": "pie"
           }
          ],
          "scatter": [
           {
            "fillpattern": {
             "fillmode": "overlay",
             "size": 10,
             "solidity": 0.2
            },
            "type": "scatter"
           }
          ],
          "scatter3d": [
           {
            "line": {
             "colorbar": {
              "outlinewidth": 0,
              "ticks": ""
             }
            },
            "marker": {
             "colorbar": {
              "outlinewidth": 0,
              "ticks": ""
             }
            },
            "type": "scatter3d"
           }
          ],
          "scattercarpet": [
           {
            "marker": {
             "colorbar": {
              "outlinewidth": 0,
              "ticks": ""
             }
            },
            "type": "scattercarpet"
           }
          ],
          "scattergeo": [
           {
            "marker": {
             "colorbar": {
              "outlinewidth": 0,
              "ticks": ""
             }
            },
            "type": "scattergeo"
           }
          ],
          "scattergl": [
           {
            "marker": {
             "colorbar": {
              "outlinewidth": 0,
              "ticks": ""
             }
            },
            "type": "scattergl"
           }
          ],
          "scattermapbox": [
           {
            "marker": {
             "colorbar": {
              "outlinewidth": 0,
              "ticks": ""
             }
            },
            "type": "scattermapbox"
           }
          ],
          "scatterpolar": [
           {
            "marker": {
             "colorbar": {
              "outlinewidth": 0,
              "ticks": ""
             }
            },
            "type": "scatterpolar"
           }
          ],
          "scatterpolargl": [
           {
            "marker": {
             "colorbar": {
              "outlinewidth": 0,
              "ticks": ""
             }
            },
            "type": "scatterpolargl"
           }
          ],
          "scatterternary": [
           {
            "marker": {
             "colorbar": {
              "outlinewidth": 0,
              "ticks": ""
             }
            },
            "type": "scatterternary"
           }
          ],
          "surface": [
           {
            "colorbar": {
             "outlinewidth": 0,
             "ticks": ""
            },
            "colorscale": [
             [
              0,
              "#0d0887"
             ],
             [
              0.1111111111111111,
              "#46039f"
             ],
             [
              0.2222222222222222,
              "#7201a8"
             ],
             [
              0.3333333333333333,
              "#9c179e"
             ],
             [
              0.4444444444444444,
              "#bd3786"
             ],
             [
              0.5555555555555556,
              "#d8576b"
             ],
             [
              0.6666666666666666,
              "#ed7953"
             ],
             [
              0.7777777777777778,
              "#fb9f3a"
             ],
             [
              0.8888888888888888,
              "#fdca26"
             ],
             [
              1,
              "#f0f921"
             ]
            ],
            "type": "surface"
           }
          ],
          "table": [
           {
            "cells": {
             "fill": {
              "color": "#EBF0F8"
             },
             "line": {
              "color": "white"
             }
            },
            "header": {
             "fill": {
              "color": "#C8D4E3"
             },
             "line": {
              "color": "white"
             }
            },
            "type": "table"
           }
          ]
         },
         "layout": {
          "annotationdefaults": {
           "arrowcolor": "#2a3f5f",
           "arrowhead": 0,
           "arrowwidth": 1
          },
          "autotypenumbers": "strict",
          "coloraxis": {
           "colorbar": {
            "outlinewidth": 0,
            "ticks": ""
           }
          },
          "colorscale": {
           "diverging": [
            [
             0,
             "#8e0152"
            ],
            [
             0.1,
             "#c51b7d"
            ],
            [
             0.2,
             "#de77ae"
            ],
            [
             0.3,
             "#f1b6da"
            ],
            [
             0.4,
             "#fde0ef"
            ],
            [
             0.5,
             "#f7f7f7"
            ],
            [
             0.6,
             "#e6f5d0"
            ],
            [
             0.7,
             "#b8e186"
            ],
            [
             0.8,
             "#7fbc41"
            ],
            [
             0.9,
             "#4d9221"
            ],
            [
             1,
             "#276419"
            ]
           ],
           "sequential": [
            [
             0,
             "#0d0887"
            ],
            [
             0.1111111111111111,
             "#46039f"
            ],
            [
             0.2222222222222222,
             "#7201a8"
            ],
            [
             0.3333333333333333,
             "#9c179e"
            ],
            [
             0.4444444444444444,
             "#bd3786"
            ],
            [
             0.5555555555555556,
             "#d8576b"
            ],
            [
             0.6666666666666666,
             "#ed7953"
            ],
            [
             0.7777777777777778,
             "#fb9f3a"
            ],
            [
             0.8888888888888888,
             "#fdca26"
            ],
            [
             1,
             "#f0f921"
            ]
           ],
           "sequentialminus": [
            [
             0,
             "#0d0887"
            ],
            [
             0.1111111111111111,
             "#46039f"
            ],
            [
             0.2222222222222222,
             "#7201a8"
            ],
            [
             0.3333333333333333,
             "#9c179e"
            ],
            [
             0.4444444444444444,
             "#bd3786"
            ],
            [
             0.5555555555555556,
             "#d8576b"
            ],
            [
             0.6666666666666666,
             "#ed7953"
            ],
            [
             0.7777777777777778,
             "#fb9f3a"
            ],
            [
             0.8888888888888888,
             "#fdca26"
            ],
            [
             1,
             "#f0f921"
            ]
           ]
          },
          "colorway": [
           "#636efa",
           "#EF553B",
           "#00cc96",
           "#ab63fa",
           "#FFA15A",
           "#19d3f3",
           "#FF6692",
           "#B6E880",
           "#FF97FF",
           "#FECB52"
          ],
          "font": {
           "color": "#2a3f5f"
          },
          "geo": {
           "bgcolor": "white",
           "lakecolor": "white",
           "landcolor": "#E5ECF6",
           "showlakes": true,
           "showland": true,
           "subunitcolor": "white"
          },
          "hoverlabel": {
           "align": "left"
          },
          "hovermode": "closest",
          "mapbox": {
           "style": "light"
          },
          "paper_bgcolor": "white",
          "plot_bgcolor": "#E5ECF6",
          "polar": {
           "angularaxis": {
            "gridcolor": "white",
            "linecolor": "white",
            "ticks": ""
           },
           "bgcolor": "#E5ECF6",
           "radialaxis": {
            "gridcolor": "white",
            "linecolor": "white",
            "ticks": ""
           }
          },
          "scene": {
           "xaxis": {
            "backgroundcolor": "#E5ECF6",
            "gridcolor": "white",
            "gridwidth": 2,
            "linecolor": "white",
            "showbackground": true,
            "ticks": "",
            "zerolinecolor": "white"
           },
           "yaxis": {
            "backgroundcolor": "#E5ECF6",
            "gridcolor": "white",
            "gridwidth": 2,
            "linecolor": "white",
            "showbackground": true,
            "ticks": "",
            "zerolinecolor": "white"
           },
           "zaxis": {
            "backgroundcolor": "#E5ECF6",
            "gridcolor": "white",
            "gridwidth": 2,
            "linecolor": "white",
            "showbackground": true,
            "ticks": "",
            "zerolinecolor": "white"
           }
          },
          "shapedefaults": {
           "line": {
            "color": "#2a3f5f"
           }
          },
          "ternary": {
           "aaxis": {
            "gridcolor": "white",
            "linecolor": "white",
            "ticks": ""
           },
           "baxis": {
            "gridcolor": "white",
            "linecolor": "white",
            "ticks": ""
           },
           "bgcolor": "#E5ECF6",
           "caxis": {
            "gridcolor": "white",
            "linecolor": "white",
            "ticks": ""
           }
          },
          "title": {
           "x": 0.05
          },
          "xaxis": {
           "automargin": true,
           "gridcolor": "white",
           "linecolor": "white",
           "ticks": "",
           "title": {
            "standoff": 15
           },
           "zerolinecolor": "white",
           "zerolinewidth": 2
          },
          "yaxis": {
           "automargin": true,
           "gridcolor": "white",
           "linecolor": "white",
           "ticks": "",
           "title": {
            "standoff": 15
           },
           "zerolinecolor": "white",
           "zerolinewidth": 2
          }
         }
        },
        "title": {
         "text": "Runway Allocation and Landing Schedule"
        },
        "xaxis": {
         "anchor": "y",
         "domain": [
          0,
          1
         ],
         "title": {
          "text": "Scheduled Landing"
         }
        },
        "yaxis": {
         "anchor": "x",
         "categoryarray": [
          "3",
          "2",
          "1"
         ],
         "categoryorder": "array",
         "domain": [
          0,
          1
         ],
         "title": {
          "text": "Runway"
         }
        }
       }
      },
      "text/html": [
       "<div>                            <div id=\"6cc22bb9-69a6-4f5d-9ccd-375c5379dd0e\" class=\"plotly-graph-div\" style=\"height:525px; width:100%;\"></div>            <script type=\"text/javascript\">                require([\"plotly\"], function(Plotly) {                    window.PLOTLYENV=window.PLOTLYENV || {};                                    if (document.getElementById(\"6cc22bb9-69a6-4f5d-9ccd-375c5379dd0e\")) {                    Plotly.newPlot(                        \"6cc22bb9-69a6-4f5d-9ccd-375c5379dd0e\",                        [{\"customdata\":[[0,4],[1,6],[3,2],[8,10],[11,8],[13,4]],\"hovertemplate\":\"Runway=%{y}<br>Scheduled Landing=%{x}<br>Aircraft ID=%{customdata[0]}<br>Target Landing=%{customdata[1]}<extra></extra>\",\"legendgroup\":\"1\",\"marker\":{\"color\":\"#636efa\",\"symbol\":\"circle\"},\"mode\":\"markers+text\",\"name\":\"1\",\"orientation\":\"h\",\"showlegend\":true,\"text\":[0.0,1.0,3.0,8.0,11.0,13.0],\"x\":[5,6,2,12,7,10],\"xaxis\":\"x\",\"y\":[\"1\",\"1\",\"1\",\"1\",\"1\",\"1\"],\"yaxis\":\"y\",\"type\":\"scatter\",\"textposition\":\"top center\"},{\"customdata\":[[6,3],[7,9],[9,4],[10,9],[14,7]],\"hovertemplate\":\"Runway=%{y}<br>Scheduled Landing=%{x}<br>Aircraft ID=%{customdata[0]}<br>Target Landing=%{customdata[1]}<extra></extra>\",\"legendgroup\":\"2\",\"marker\":{\"color\":\"#EF553B\",\"symbol\":\"diamond\"},\"mode\":\"markers+text\",\"name\":\"2\",\"orientation\":\"h\",\"showlegend\":true,\"text\":[6.0,7.0,9.0,10.0,14.0],\"x\":[3,7,5,12,10],\"xaxis\":\"x\",\"y\":[\"2\",\"2\",\"2\",\"2\",\"2\"],\"yaxis\":\"y\",\"type\":\"scatter\",\"textposition\":\"top center\"},{\"customdata\":[[2,2],[4,3],[5,5],[12,4]],\"hovertemplate\":\"Runway=%{y}<br>Scheduled Landing=%{x}<br>Aircraft ID=%{customdata[0]}<br>Target Landing=%{customdata[1]}<extra></extra>\",\"legendgroup\":\"3\",\"marker\":{\"color\":\"#00cc96\",\"symbol\":\"square\"},\"mode\":\"markers+text\",\"name\":\"3\",\"orientation\":\"h\",\"showlegend\":true,\"text\":[2.0,4.0,5.0,12.0],\"x\":[2,10,7,5],\"xaxis\":\"x\",\"y\":[\"3\",\"3\",\"3\",\"3\"],\"yaxis\":\"y\",\"type\":\"scatter\",\"textposition\":\"top center\"}],                        {\"template\":{\"data\":{\"histogram2dcontour\":[{\"type\":\"histogram2dcontour\",\"colorbar\":{\"outlinewidth\":0,\"ticks\":\"\"},\"colorscale\":[[0.0,\"#0d0887\"],[0.1111111111111111,\"#46039f\"],[0.2222222222222222,\"#7201a8\"],[0.3333333333333333,\"#9c179e\"],[0.4444444444444444,\"#bd3786\"],[0.5555555555555556,\"#d8576b\"],[0.6666666666666666,\"#ed7953\"],[0.7777777777777778,\"#fb9f3a\"],[0.8888888888888888,\"#fdca26\"],[1.0,\"#f0f921\"]]}],\"choropleth\":[{\"type\":\"choropleth\",\"colorbar\":{\"outlinewidth\":0,\"ticks\":\"\"}}],\"histogram2d\":[{\"type\":\"histogram2d\",\"colorbar\":{\"outlinewidth\":0,\"ticks\":\"\"},\"colorscale\":[[0.0,\"#0d0887\"],[0.1111111111111111,\"#46039f\"],[0.2222222222222222,\"#7201a8\"],[0.3333333333333333,\"#9c179e\"],[0.4444444444444444,\"#bd3786\"],[0.5555555555555556,\"#d8576b\"],[0.6666666666666666,\"#ed7953\"],[0.7777777777777778,\"#fb9f3a\"],[0.8888888888888888,\"#fdca26\"],[1.0,\"#f0f921\"]]}],\"heatmap\":[{\"type\":\"heatmap\",\"colorbar\":{\"outlinewidth\":0,\"ticks\":\"\"},\"colorscale\":[[0.0,\"#0d0887\"],[0.1111111111111111,\"#46039f\"],[0.2222222222222222,\"#7201a8\"],[0.3333333333333333,\"#9c179e\"],[0.4444444444444444,\"#bd3786\"],[0.5555555555555556,\"#d8576b\"],[0.6666666666666666,\"#ed7953\"],[0.7777777777777778,\"#fb9f3a\"],[0.8888888888888888,\"#fdca26\"],[1.0,\"#f0f921\"]]}],\"heatmapgl\":[{\"type\":\"heatmapgl\",\"colorbar\":{\"outlinewidth\":0,\"ticks\":\"\"},\"colorscale\":[[0.0,\"#0d0887\"],[0.1111111111111111,\"#46039f\"],[0.2222222222222222,\"#7201a8\"],[0.3333333333333333,\"#9c179e\"],[0.4444444444444444,\"#bd3786\"],[0.5555555555555556,\"#d8576b\"],[0.6666666666666666,\"#ed7953\"],[0.7777777777777778,\"#fb9f3a\"],[0.8888888888888888,\"#fdca26\"],[1.0,\"#f0f921\"]]}],\"contourcarpet\":[{\"type\":\"contourcarpet\",\"colorbar\":{\"outlinewidth\":0,\"ticks\":\"\"}}],\"contour\":[{\"type\":\"contour\",\"colorbar\":{\"outlinewidth\":0,\"ticks\":\"\"},\"colorscale\":[[0.0,\"#0d0887\"],[0.1111111111111111,\"#46039f\"],[0.2222222222222222,\"#7201a8\"],[0.3333333333333333,\"#9c179e\"],[0.4444444444444444,\"#bd3786\"],[0.5555555555555556,\"#d8576b\"],[0.6666666666666666,\"#ed7953\"],[0.7777777777777778,\"#fb9f3a\"],[0.8888888888888888,\"#fdca26\"],[1.0,\"#f0f921\"]]}],\"surface\":[{\"type\":\"surface\",\"colorbar\":{\"outlinewidth\":0,\"ticks\":\"\"},\"colorscale\":[[0.0,\"#0d0887\"],[0.1111111111111111,\"#46039f\"],[0.2222222222222222,\"#7201a8\"],[0.3333333333333333,\"#9c179e\"],[0.4444444444444444,\"#bd3786\"],[0.5555555555555556,\"#d8576b\"],[0.6666666666666666,\"#ed7953\"],[0.7777777777777778,\"#fb9f3a\"],[0.8888888888888888,\"#fdca26\"],[1.0,\"#f0f921\"]]}],\"mesh3d\":[{\"type\":\"mesh3d\",\"colorbar\":{\"outlinewidth\":0,\"ticks\":\"\"}}],\"scatter\":[{\"fillpattern\":{\"fillmode\":\"overlay\",\"size\":10,\"solidity\":0.2},\"type\":\"scatter\"}],\"parcoords\":[{\"type\":\"parcoords\",\"line\":{\"colorbar\":{\"outlinewidth\":0,\"ticks\":\"\"}}}],\"scatterpolargl\":[{\"type\":\"scatterpolargl\",\"marker\":{\"colorbar\":{\"outlinewidth\":0,\"ticks\":\"\"}}}],\"bar\":[{\"error_x\":{\"color\":\"#2a3f5f\"},\"error_y\":{\"color\":\"#2a3f5f\"},\"marker\":{\"line\":{\"color\":\"#E5ECF6\",\"width\":0.5},\"pattern\":{\"fillmode\":\"overlay\",\"size\":10,\"solidity\":0.2}},\"type\":\"bar\"}],\"scattergeo\":[{\"type\":\"scattergeo\",\"marker\":{\"colorbar\":{\"outlinewidth\":0,\"ticks\":\"\"}}}],\"scatterpolar\":[{\"type\":\"scatterpolar\",\"marker\":{\"colorbar\":{\"outlinewidth\":0,\"ticks\":\"\"}}}],\"histogram\":[{\"marker\":{\"pattern\":{\"fillmode\":\"overlay\",\"size\":10,\"solidity\":0.2}},\"type\":\"histogram\"}],\"scattergl\":[{\"type\":\"scattergl\",\"marker\":{\"colorbar\":{\"outlinewidth\":0,\"ticks\":\"\"}}}],\"scatter3d\":[{\"type\":\"scatter3d\",\"line\":{\"colorbar\":{\"outlinewidth\":0,\"ticks\":\"\"}},\"marker\":{\"colorbar\":{\"outlinewidth\":0,\"ticks\":\"\"}}}],\"scattermapbox\":[{\"type\":\"scattermapbox\",\"marker\":{\"colorbar\":{\"outlinewidth\":0,\"ticks\":\"\"}}}],\"scatterternary\":[{\"type\":\"scatterternary\",\"marker\":{\"colorbar\":{\"outlinewidth\":0,\"ticks\":\"\"}}}],\"scattercarpet\":[{\"type\":\"scattercarpet\",\"marker\":{\"colorbar\":{\"outlinewidth\":0,\"ticks\":\"\"}}}],\"carpet\":[{\"aaxis\":{\"endlinecolor\":\"#2a3f5f\",\"gridcolor\":\"white\",\"linecolor\":\"white\",\"minorgridcolor\":\"white\",\"startlinecolor\":\"#2a3f5f\"},\"baxis\":{\"endlinecolor\":\"#2a3f5f\",\"gridcolor\":\"white\",\"linecolor\":\"white\",\"minorgridcolor\":\"white\",\"startlinecolor\":\"#2a3f5f\"},\"type\":\"carpet\"}],\"table\":[{\"cells\":{\"fill\":{\"color\":\"#EBF0F8\"},\"line\":{\"color\":\"white\"}},\"header\":{\"fill\":{\"color\":\"#C8D4E3\"},\"line\":{\"color\":\"white\"}},\"type\":\"table\"}],\"barpolar\":[{\"marker\":{\"line\":{\"color\":\"#E5ECF6\",\"width\":0.5},\"pattern\":{\"fillmode\":\"overlay\",\"size\":10,\"solidity\":0.2}},\"type\":\"barpolar\"}],\"pie\":[{\"automargin\":true,\"type\":\"pie\"}]},\"layout\":{\"autotypenumbers\":\"strict\",\"colorway\":[\"#636efa\",\"#EF553B\",\"#00cc96\",\"#ab63fa\",\"#FFA15A\",\"#19d3f3\",\"#FF6692\",\"#B6E880\",\"#FF97FF\",\"#FECB52\"],\"font\":{\"color\":\"#2a3f5f\"},\"hovermode\":\"closest\",\"hoverlabel\":{\"align\":\"left\"},\"paper_bgcolor\":\"white\",\"plot_bgcolor\":\"#E5ECF6\",\"polar\":{\"bgcolor\":\"#E5ECF6\",\"angularaxis\":{\"gridcolor\":\"white\",\"linecolor\":\"white\",\"ticks\":\"\"},\"radialaxis\":{\"gridcolor\":\"white\",\"linecolor\":\"white\",\"ticks\":\"\"}},\"ternary\":{\"bgcolor\":\"#E5ECF6\",\"aaxis\":{\"gridcolor\":\"white\",\"linecolor\":\"white\",\"ticks\":\"\"},\"baxis\":{\"gridcolor\":\"white\",\"linecolor\":\"white\",\"ticks\":\"\"},\"caxis\":{\"gridcolor\":\"white\",\"linecolor\":\"white\",\"ticks\":\"\"}},\"coloraxis\":{\"colorbar\":{\"outlinewidth\":0,\"ticks\":\"\"}},\"colorscale\":{\"sequential\":[[0.0,\"#0d0887\"],[0.1111111111111111,\"#46039f\"],[0.2222222222222222,\"#7201a8\"],[0.3333333333333333,\"#9c179e\"],[0.4444444444444444,\"#bd3786\"],[0.5555555555555556,\"#d8576b\"],[0.6666666666666666,\"#ed7953\"],[0.7777777777777778,\"#fb9f3a\"],[0.8888888888888888,\"#fdca26\"],[1.0,\"#f0f921\"]],\"sequentialminus\":[[0.0,\"#0d0887\"],[0.1111111111111111,\"#46039f\"],[0.2222222222222222,\"#7201a8\"],[0.3333333333333333,\"#9c179e\"],[0.4444444444444444,\"#bd3786\"],[0.5555555555555556,\"#d8576b\"],[0.6666666666666666,\"#ed7953\"],[0.7777777777777778,\"#fb9f3a\"],[0.8888888888888888,\"#fdca26\"],[1.0,\"#f0f921\"]],\"diverging\":[[0,\"#8e0152\"],[0.1,\"#c51b7d\"],[0.2,\"#de77ae\"],[0.3,\"#f1b6da\"],[0.4,\"#fde0ef\"],[0.5,\"#f7f7f7\"],[0.6,\"#e6f5d0\"],[0.7,\"#b8e186\"],[0.8,\"#7fbc41\"],[0.9,\"#4d9221\"],[1,\"#276419\"]]},\"xaxis\":{\"gridcolor\":\"white\",\"linecolor\":\"white\",\"ticks\":\"\",\"title\":{\"standoff\":15},\"zerolinecolor\":\"white\",\"automargin\":true,\"zerolinewidth\":2},\"yaxis\":{\"gridcolor\":\"white\",\"linecolor\":\"white\",\"ticks\":\"\",\"title\":{\"standoff\":15},\"zerolinecolor\":\"white\",\"automargin\":true,\"zerolinewidth\":2},\"scene\":{\"xaxis\":{\"backgroundcolor\":\"#E5ECF6\",\"gridcolor\":\"white\",\"linecolor\":\"white\",\"showbackground\":true,\"ticks\":\"\",\"zerolinecolor\":\"white\",\"gridwidth\":2},\"yaxis\":{\"backgroundcolor\":\"#E5ECF6\",\"gridcolor\":\"white\",\"linecolor\":\"white\",\"showbackground\":true,\"ticks\":\"\",\"zerolinecolor\":\"white\",\"gridwidth\":2},\"zaxis\":{\"backgroundcolor\":\"#E5ECF6\",\"gridcolor\":\"white\",\"linecolor\":\"white\",\"showbackground\":true,\"ticks\":\"\",\"zerolinecolor\":\"white\",\"gridwidth\":2}},\"shapedefaults\":{\"line\":{\"color\":\"#2a3f5f\"}},\"annotationdefaults\":{\"arrowcolor\":\"#2a3f5f\",\"arrowhead\":0,\"arrowwidth\":1},\"geo\":{\"bgcolor\":\"white\",\"landcolor\":\"#E5ECF6\",\"subunitcolor\":\"white\",\"showland\":true,\"showlakes\":true,\"lakecolor\":\"white\"},\"title\":{\"x\":0.05},\"mapbox\":{\"style\":\"light\"}}},\"xaxis\":{\"anchor\":\"y\",\"domain\":[0.0,1.0],\"title\":{\"text\":\"Scheduled Landing\"}},\"yaxis\":{\"anchor\":\"x\",\"domain\":[0.0,1.0],\"title\":{\"text\":\"Runway\"},\"categoryorder\":\"array\",\"categoryarray\":[\"3\",\"2\",\"1\"]},\"legend\":{\"title\":{\"text\":\"Runway\"},\"tracegroupgap\":0},\"margin\":{\"t\":60},\"title\":{\"text\":\"Runway Allocation and Landing Schedule\"}},                        {\"responsive\": true}                    ).then(function(){\n",
       "                            \n",
       "var gd = document.getElementById('6cc22bb9-69a6-4f5d-9ccd-375c5379dd0e');\n",
       "var x = new MutationObserver(function (mutations, observer) {{\n",
       "        var display = window.getComputedStyle(gd).display;\n",
       "        if (!display || display === 'none') {{\n",
       "            console.log([gd, 'removed!']);\n",
       "            Plotly.purge(gd);\n",
       "            observer.disconnect();\n",
       "        }}\n",
       "}});\n",
       "\n",
       "// Listen for the removal of the full notebook cells\n",
       "var notebookContainer = gd.closest('#notebook-container');\n",
       "if (notebookContainer) {{\n",
       "    x.observe(notebookContainer, {childList: true});\n",
       "}}\n",
       "\n",
       "// Listen for the clearing of the current output cell\n",
       "var outputEl = gd.closest('.output');\n",
       "if (outputEl) {{\n",
       "    x.observe(outputEl, {childList: true});\n",
       "}}\n",
       "\n",
       "                        })                };                });            </script>        </div>"
      ]
     },
     "metadata": {},
     "output_type": "display_data"
    }
   ],
   "source": [
    "fig = px.scatter(results_df, x=\"Scheduled Landing\", y=\"Runway\", text=\"Aircraft ID\",\n",
    "                hover_data=list(results_df.columns), color=\"Runway\", symbol=\"Runway\")\n",
    "\n",
    "fig.update_traces(textposition='top center')\n",
    "\n",
    "fig.update_layout(\n",
    "    title_text='Runway Allocation and Landing Schedule'\n",
    ")\n",
    "\n",
    "fig.show()"
   ]
  }
 ],
 "metadata": {
  "kernelspec": {
   "display_name": "Python 3 (ipykernel)",
   "language": "python",
   "name": "python3"
  },
  "language_info": {
   "codemirror_mode": {
    "name": "ipython",
    "version": 3
   },
   "file_extension": ".py",
   "mimetype": "text/x-python",
   "name": "python",
   "nbconvert_exporter": "python",
   "pygments_lexer": "ipython3",
   "version": "3.9.13"
  },
  "toc": {
   "base_numbering": 1,
   "nav_menu": {},
   "number_sections": false,
   "sideBar": true,
   "skip_h1_title": false,
   "title_cell": "Table of Contents",
   "title_sidebar": "Contents",
   "toc_cell": false,
   "toc_position": {},
   "toc_section_display": true,
   "toc_window_display": false
  },
  "varInspector": {
   "cols": {
    "lenName": 16,
    "lenType": 16,
    "lenVar": 40
   },
   "kernels_config": {
    "python": {
     "delete_cmd_postfix": "",
     "delete_cmd_prefix": "del ",
     "library": "var_list.py",
     "varRefreshCmd": "print(var_dic_list())"
    },
    "r": {
     "delete_cmd_postfix": ") ",
     "delete_cmd_prefix": "rm(",
     "library": "var_list.r",
     "varRefreshCmd": "cat(var_dic_list()) "
    }
   },
   "types_to_exclude": [
    "module",
    "function",
    "builtin_function_or_method",
    "instance",
    "_Feature"
   ],
   "window_display": false
  }
 },
 "nbformat": 4,
 "nbformat_minor": 5
}

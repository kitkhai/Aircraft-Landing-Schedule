{
 "cells": [
  {
   "cell_type": "code",
   "execution_count": 24,
   "metadata": {},
   "outputs": [],
   "source": [
    "import pandas as pd\n",
    "import numpy as np\n",
    "from rsome import ro\n",
    "from rsome import grb_solver as grb"
   ]
  },
  {
   "cell_type": "markdown",
   "metadata": {},
   "source": [
    "## Data Ingestion"
   ]
  },
  {
   "cell_type": "code",
   "execution_count": 25,
   "metadata": {},
   "outputs": [
    {
     "data": {
      "text/plain": [
       "array([[99999,     3,    15,    15,    15,    15,    15,    15,    15,\n",
       "           15,     3,     3,    15,    15,     3],\n",
       "       [    3, 99999,    15,    15,    15,    15,    15,    15,    15,\n",
       "           15,     3,     3,    15,    15,     3],\n",
       "       [   15,    15, 99999,     8,     8,     8,     8,     8,     8,\n",
       "            8,    15,    15,     8,     8,    15],\n",
       "       [   15,    15,     8, 99999,     8,     8,     8,     8,     8,\n",
       "            8,    15,    15,     8,     8,    15],\n",
       "       [   15,    15,     8,     8, 99999,     8,     8,     8,     8,\n",
       "            8,    15,    15,     8,     8,    15],\n",
       "       [   15,    15,     8,     8,     8, 99999,     8,     8,     8,\n",
       "            8,    15,    15,     8,     8,    15],\n",
       "       [   15,    15,     8,     8,     8,     8, 99999,     8,     8,\n",
       "            8,    15,    15,     8,     8,    15],\n",
       "       [   15,    15,     8,     8,     8,     8,     8, 99999,     8,\n",
       "            8,    15,    15,     8,     8,    15],\n",
       "       [   15,    15,     8,     8,     8,     8,     8,     8, 99999,\n",
       "            8,    15,    15,     8,     8,    15],\n",
       "       [   15,    15,     8,     8,     8,     8,     8,     8,     8,\n",
       "        99999,    15,    15,     8,     8,    15],\n",
       "       [    3,     3,    15,    15,    15,    15,    15,    15,    15,\n",
       "           15, 99999,     3,    15,    15,     3],\n",
       "       [    3,     3,    15,    15,    15,    15,    15,    15,    15,\n",
       "           15,     3, 99999,    15,    15,     3],\n",
       "       [   15,    15,     8,     8,     8,     8,     8,     8,     8,\n",
       "            8,    15,    15, 99999,     8,    15],\n",
       "       [   15,    15,     8,     8,     8,     8,     8,     8,     8,\n",
       "            8,    15,    15,     8, 99999,    15],\n",
       "       [    3,     3,    15,    15,    15,    15,    15,    15,    15,\n",
       "           15,     3,     3,    15,    15, 99999]], dtype=int64)"
      ]
     },
     "execution_count": 25,
     "metadata": {},
     "output_type": "execute_result"
    }
   ],
   "source": [
    "separation_time = pd.read_csv(\"data - Separation Time.csv\",header=None).values\n",
    "separation_time"
   ]
  },
  {
   "cell_type": "code",
   "execution_count": 26,
   "metadata": {},
   "outputs": [
    {
     "data": {
      "text/html": [
       "<div>\n",
       "<style scoped>\n",
       "    .dataframe tbody tr th:only-of-type {\n",
       "        vertical-align: middle;\n",
       "    }\n",
       "\n",
       "    .dataframe tbody tr th {\n",
       "        vertical-align: top;\n",
       "    }\n",
       "\n",
       "    .dataframe thead th {\n",
       "        text-align: right;\n",
       "    }\n",
       "</style>\n",
       "<table border=\"1\" class=\"dataframe\">\n",
       "  <thead>\n",
       "    <tr style=\"text-align: right;\">\n",
       "      <th></th>\n",
       "      <th>Aircraft ID</th>\n",
       "      <th>Earliest Landing Time</th>\n",
       "      <th>Target Landing Time</th>\n",
       "      <th>Latest Landing Time</th>\n",
       "      <th>penalty cost per unit of time for landing before target</th>\n",
       "      <th>penalty cost per unit of time for landing after target</th>\n",
       "      <th>Size</th>\n",
       "    </tr>\n",
       "  </thead>\n",
       "  <tbody>\n",
       "    <tr>\n",
       "      <th>0</th>\n",
       "      <td>0</td>\n",
       "      <td>129</td>\n",
       "      <td>155</td>\n",
       "      <td>559</td>\n",
       "      <td>10</td>\n",
       "      <td>10</td>\n",
       "      <td>3</td>\n",
       "    </tr>\n",
       "    <tr>\n",
       "      <th>1</th>\n",
       "      <td>1</td>\n",
       "      <td>190</td>\n",
       "      <td>250</td>\n",
       "      <td>732</td>\n",
       "      <td>10</td>\n",
       "      <td>10</td>\n",
       "      <td>3</td>\n",
       "    </tr>\n",
       "    <tr>\n",
       "      <th>2</th>\n",
       "      <td>2</td>\n",
       "      <td>84</td>\n",
       "      <td>93</td>\n",
       "      <td>501</td>\n",
       "      <td>30</td>\n",
       "      <td>30</td>\n",
       "      <td>2</td>\n",
       "    </tr>\n",
       "    <tr>\n",
       "      <th>3</th>\n",
       "      <td>3</td>\n",
       "      <td>89</td>\n",
       "      <td>98</td>\n",
       "      <td>509</td>\n",
       "      <td>30</td>\n",
       "      <td>30</td>\n",
       "      <td>2</td>\n",
       "    </tr>\n",
       "    <tr>\n",
       "      <th>4</th>\n",
       "      <td>4</td>\n",
       "      <td>100</td>\n",
       "      <td>111</td>\n",
       "      <td>536</td>\n",
       "      <td>30</td>\n",
       "      <td>30</td>\n",
       "      <td>2</td>\n",
       "    </tr>\n",
       "    <tr>\n",
       "      <th>5</th>\n",
       "      <td>5</td>\n",
       "      <td>107</td>\n",
       "      <td>120</td>\n",
       "      <td>552</td>\n",
       "      <td>30</td>\n",
       "      <td>30</td>\n",
       "      <td>2</td>\n",
       "    </tr>\n",
       "    <tr>\n",
       "      <th>6</th>\n",
       "      <td>6</td>\n",
       "      <td>109</td>\n",
       "      <td>121</td>\n",
       "      <td>550</td>\n",
       "      <td>30</td>\n",
       "      <td>30</td>\n",
       "      <td>1</td>\n",
       "    </tr>\n",
       "    <tr>\n",
       "      <th>7</th>\n",
       "      <td>7</td>\n",
       "      <td>109</td>\n",
       "      <td>120</td>\n",
       "      <td>544</td>\n",
       "      <td>30</td>\n",
       "      <td>30</td>\n",
       "      <td>1</td>\n",
       "    </tr>\n",
       "    <tr>\n",
       "      <th>8</th>\n",
       "      <td>8</td>\n",
       "      <td>115</td>\n",
       "      <td>128</td>\n",
       "      <td>557</td>\n",
       "      <td>30</td>\n",
       "      <td>30</td>\n",
       "      <td>1</td>\n",
       "    </tr>\n",
       "    <tr>\n",
       "      <th>9</th>\n",
       "      <td>9</td>\n",
       "      <td>134</td>\n",
       "      <td>151</td>\n",
       "      <td>610</td>\n",
       "      <td>30</td>\n",
       "      <td>30</td>\n",
       "      <td>1</td>\n",
       "    </tr>\n",
       "    <tr>\n",
       "      <th>10</th>\n",
       "      <td>10</td>\n",
       "      <td>266</td>\n",
       "      <td>341</td>\n",
       "      <td>837</td>\n",
       "      <td>10</td>\n",
       "      <td>10</td>\n",
       "      <td>1</td>\n",
       "    </tr>\n",
       "    <tr>\n",
       "      <th>11</th>\n",
       "      <td>11</td>\n",
       "      <td>251</td>\n",
       "      <td>313</td>\n",
       "      <td>778</td>\n",
       "      <td>10</td>\n",
       "      <td>10</td>\n",
       "      <td>3</td>\n",
       "    </tr>\n",
       "    <tr>\n",
       "      <th>12</th>\n",
       "      <td>12</td>\n",
       "      <td>160</td>\n",
       "      <td>181</td>\n",
       "      <td>674</td>\n",
       "      <td>30</td>\n",
       "      <td>30</td>\n",
       "      <td>2</td>\n",
       "    </tr>\n",
       "    <tr>\n",
       "      <th>13</th>\n",
       "      <td>13</td>\n",
       "      <td>152</td>\n",
       "      <td>171</td>\n",
       "      <td>637</td>\n",
       "      <td>30</td>\n",
       "      <td>30</td>\n",
       "      <td>3</td>\n",
       "    </tr>\n",
       "    <tr>\n",
       "      <th>14</th>\n",
       "      <td>14</td>\n",
       "      <td>276</td>\n",
       "      <td>342</td>\n",
       "      <td>815</td>\n",
       "      <td>10</td>\n",
       "      <td>10</td>\n",
       "      <td>1</td>\n",
       "    </tr>\n",
       "  </tbody>\n",
       "</table>\n",
       "</div>"
      ],
      "text/plain": [
       "    Aircraft ID  Earliest Landing Time  Target Landing Time  \\\n",
       "0             0                    129                  155   \n",
       "1             1                    190                  250   \n",
       "2             2                     84                   93   \n",
       "3             3                     89                   98   \n",
       "4             4                    100                  111   \n",
       "5             5                    107                  120   \n",
       "6             6                    109                  121   \n",
       "7             7                    109                  120   \n",
       "8             8                    115                  128   \n",
       "9             9                    134                  151   \n",
       "10           10                    266                  341   \n",
       "11           11                    251                  313   \n",
       "12           12                    160                  181   \n",
       "13           13                    152                  171   \n",
       "14           14                    276                  342   \n",
       "\n",
       "    Latest Landing Time  \\\n",
       "0                   559   \n",
       "1                   732   \n",
       "2                   501   \n",
       "3                   509   \n",
       "4                   536   \n",
       "5                   552   \n",
       "6                   550   \n",
       "7                   544   \n",
       "8                   557   \n",
       "9                   610   \n",
       "10                  837   \n",
       "11                  778   \n",
       "12                  674   \n",
       "13                  637   \n",
       "14                  815   \n",
       "\n",
       "    penalty cost per unit of time for landing before target  \\\n",
       "0                                                  10         \n",
       "1                                                  10         \n",
       "2                                                  30         \n",
       "3                                                  30         \n",
       "4                                                  30         \n",
       "5                                                  30         \n",
       "6                                                  30         \n",
       "7                                                  30         \n",
       "8                                                  30         \n",
       "9                                                  30         \n",
       "10                                                 10         \n",
       "11                                                 10         \n",
       "12                                                 30         \n",
       "13                                                 30         \n",
       "14                                                 10         \n",
       "\n",
       "    penalty cost per unit of time for landing after target  Size  \n",
       "0                                                  10          3  \n",
       "1                                                  10          3  \n",
       "2                                                  30          2  \n",
       "3                                                  30          2  \n",
       "4                                                  30          2  \n",
       "5                                                  30          2  \n",
       "6                                                  30          1  \n",
       "7                                                  30          1  \n",
       "8                                                  30          1  \n",
       "9                                                  30          1  \n",
       "10                                                 10          1  \n",
       "11                                                 10          3  \n",
       "12                                                 30          2  \n",
       "13                                                 30          3  \n",
       "14                                                 10          1  "
      ]
     },
     "execution_count": 26,
     "metadata": {},
     "output_type": "execute_result"
    }
   ],
   "source": [
    "landing_time_cost_df = pd.read_csv(\"data - Landing Time.csv\")\n",
    "landing_time_cost_df"
   ]
  },
  {
   "cell_type": "code",
   "execution_count": 27,
   "metadata": {},
   "outputs": [],
   "source": [
    "earliest_landing = landing_time_cost_df[\"Earliest Landing Time\"].values\n",
    "target_landing = landing_time_cost_df[\"Target Landing Time\"].values\n",
    "latest_landing = landing_time_cost_df[\"Latest Landing Time\"].values\n",
    "\n",
    "early_landing_penalty = landing_time_cost_df[\"penalty cost per unit of time for landing before target\"].values\n",
    "late_landing_penalty = landing_time_cost_df[\"penalty cost per unit of time for landing after target\"].values\n",
    "aircraft_size = landing_time_cost_df[\"Size\"].values"
   ]
  },
  {
   "cell_type": "code",
   "execution_count": 28,
   "metadata": {},
   "outputs": [
    {
     "data": {
      "text/plain": [
       "15"
      ]
     },
     "execution_count": 28,
     "metadata": {},
     "output_type": "execute_result"
    }
   ],
   "source": [
    "N = len(earliest_landing)\n",
    "N"
   ]
  },
  {
   "cell_type": "code",
   "execution_count": 29,
   "metadata": {},
   "outputs": [
    {
     "data": {
      "text/plain": [
       "array([3, 1], dtype=int64)"
      ]
     },
     "execution_count": 29,
     "metadata": {},
     "output_type": "execute_result"
    }
   ],
   "source": [
    "runway_max_size = pd.read_csv(\"data - Runway.csv\")['Max Size'].values\n",
    "runway_max_size"
   ]
  },
  {
   "cell_type": "code",
   "execution_count": 30,
   "metadata": {},
   "outputs": [
    {
     "data": {
      "text/plain": [
       "2"
      ]
     },
     "execution_count": 30,
     "metadata": {},
     "output_type": "execute_result"
    }
   ],
   "source": [
    "num_runways = runway_max_size.shape[0]\n",
    "num_runways"
   ]
  },
  {
   "cell_type": "code",
   "execution_count": 31,
   "metadata": {},
   "outputs": [
    {
     "data": {
      "text/plain": [
       "2"
      ]
     },
     "execution_count": 31,
     "metadata": {},
     "output_type": "execute_result"
    }
   ],
   "source": [
    "max_aircraft_runway_size_diff = max(aircraft_size.max() -  runway_max_size.min(),  runway_max_size.max() - aircraft_size.min())\n",
    "max_aircraft_runway_size_diff"
   ]
  },
  {
   "cell_type": "markdown",
   "metadata": {},
   "source": [
    "## Model"
   ]
  },
  {
   "cell_type": "code",
   "execution_count": 32,
   "metadata": {},
   "outputs": [],
   "source": [
    "model = ro.Model(\"Aircaft Landing\")"
   ]
  },
  {
   "cell_type": "markdown",
   "metadata": {},
   "source": [
    "### Decision Variables"
   ]
  },
  {
   "cell_type": "code",
   "execution_count": 33,
   "metadata": {},
   "outputs": [],
   "source": [
    "scheduled_landing = model.dvar(N)\n",
    "landing_earliness = model.dvar(N)\n",
    "landing_lateness = model.dvar(N)\n",
    "\n",
    "#NxN Matrix to determine whether plane i lands before plane j, i != j\n",
    "i_lands_before_j = model.dvar((N,N), \"B\")\n",
    "# for i in range(N):\n",
    "#     model.st(i_lands_before_j[i:i] == 0)\n",
    "\n",
    "# NxN Matrix to determine whether plane i lands before plane j, i != j\n",
    "lands_on_same_runway = model.dvar((N,N), \"B\")\n",
    "# for i in range(N):\n",
    "#     model.st(lands_on_same_runway[i:i] == 0)\n",
    "\n",
    "# Nxnum_runways Matrix to determine whether plane i lands on runway r\n",
    "runway_allocation = model.dvar((N,num_runways), \"B\")"
   ]
  },
  {
   "cell_type": "markdown",
   "metadata": {},
   "source": [
    "### Objective Function"
   ]
  },
  {
   "cell_type": "code",
   "execution_count": 34,
   "metadata": {},
   "outputs": [],
   "source": [
    "model.min(sum(early_landing_penalty*landing_earliness) + sum(late_landing_penalty*landing_lateness))"
   ]
  },
  {
   "cell_type": "markdown",
   "metadata": {},
   "source": [
    "### Constraints"
   ]
  },
  {
   "cell_type": "code",
   "execution_count": 35,
   "metadata": {},
   "outputs": [],
   "source": [
    "# Aircraft has to land between the latest and earliest possible time\n",
    "model.st(earliest_landing <= scheduled_landing <= latest_landing)\n",
    "\n",
    "# Calculating the earliness & lateness\n",
    "# Since landing_earliness, landing_lateness > 0\n",
    "# If scheduled_landing - target_landing >= 0, landing_earliness >=0 & landing_lateness ==0\n",
    "# If scheduled_landing - target_landing <= 0, landing_earliness ==0 & landing_lateness >=0\n",
    "model.st(scheduled_landing - target_landing == landing_earliness - landing_lateness)\n",
    "\n",
    "# If 2 planes are scheduled for the same runway, then at least S amt of time should have elapsed\n",
    "# between plane i and plane j\n",
    "M = 99999\n",
    "for j in range(N):\n",
    "    for i in range(N):\n",
    "        if i != j:\n",
    "            model.st(scheduled_landing[j] - scheduled_landing[i] >= \n",
    "                     separation_time[i,j]*lands_on_same_runway[i,j] - M*i_lands_before_j[j,i])\n",
    "            \n",
    "# Every 2 plane must land either before or after and not the same time\n",
    "for j in range(N):\n",
    "    for i in range(N):\n",
    "        if i != j:\n",
    "            model.st(i_lands_before_j[i,j] + i_lands_before_j[j,i] == 1)\n",
    "\n",
    "# Defining the link between lands_on_same_runway & runway_allocation\n",
    "for j in range(N):\n",
    "    for i in range(N):\n",
    "        if i != j:\n",
    "            for r in range(num_runways):\n",
    "                model.st(lands_on_same_runway[i,j] >= runway_allocation[i,r] + runway_allocation[j,r] - 1)\n",
    "\n",
    "# # Aircraft size should not be larger than max size of runway\n",
    "# for aircraft_index in range(N):\n",
    "#     for runway_index in range(num_runways):\n",
    "#         if aircraft_size[aircraft_index] > runway_max_size[runway_index]:\n",
    "#             model.st(runway_allocation[aircraft_index,runway_index] == 0)\n",
    "\n",
    "for aircraft_index in range(N):\n",
    "    for runway_index in range(num_runways):\n",
    "        model.st(aircraft_size[aircraft_index] - runway_max_size[runway_index] <= (1 - runway_allocation[aircraft_index,runway_index])*max_aircraft_runway_size_diff)\n",
    "\n",
    "\n",
    "# Each aircraft can only land on 1 runway\n",
    "for i in range(N):\n",
    "    model.st(sum(runway_allocation[i,r] for r in range(num_runways)) == 1)\n",
    "\n",
    "# Non negative Constraints\n",
    "model.st(scheduled_landing >= 0,\n",
    "        landing_earliness >= 0,\n",
    "        landing_lateness >= 0\n",
    "        )"
   ]
  },
  {
   "cell_type": "code",
   "execution_count": 36,
   "metadata": {},
   "outputs": [
    {
     "data": {
      "text/plain": [
       "Conic program object:\n",
       "=============================================\n",
       "Number of variables:           526\n",
       "Continuous/binaries/integers:  46/480/0\n",
       "---------------------------------------------\n",
       "Number of linear constraints:  901\n",
       "Inequalities/equalities:       661/240\n",
       "Number of coefficients:        2656\n",
       "---------------------------------------------\n",
       "Number of SOC constraints:     0\n",
       "---------------------------------------------\n",
       "Number of ExpCone constraints: 0"
      ]
     },
     "execution_count": 36,
     "metadata": {},
     "output_type": "execute_result"
    }
   ],
   "source": [
    "model.do_math()"
   ]
  },
  {
   "cell_type": "markdown",
   "metadata": {},
   "source": [
    "### Solving"
   ]
  },
  {
   "cell_type": "code",
   "execution_count": 37,
   "metadata": {},
   "outputs": [
    {
     "name": "stdout",
     "output_type": "stream",
     "text": [
      "Being solved by Gurobi...\n",
      "Solution status: 2\n",
      "Running time: 0.4480s\n"
     ]
    }
   ],
   "source": [
    "model.solve(grb)"
   ]
  },
  {
   "cell_type": "code",
   "execution_count": 38,
   "metadata": {},
   "outputs": [
    {
     "name": "stdout",
     "output_type": "stream",
     "text": [
      "Runway allocation: [[1. 0.]\n",
      " [1. 0.]\n",
      " [1. 0.]\n",
      " [1. 0.]\n",
      " [1. 0.]\n",
      " [1. 0.]\n",
      " [1. 0.]\n",
      " [0. 1.]\n",
      " [0. 1.]\n",
      " [0. 1.]\n",
      " [0. 1.]\n",
      " [1. 0.]\n",
      " [1. 0.]\n",
      " [1. 0.]\n",
      " [1. 0.]]\n"
     ]
    }
   ],
   "source": [
    "print(\"Runway allocation:\", runway_allocation.get())"
   ]
  },
  {
   "cell_type": "code",
   "execution_count": 41,
   "metadata": {},
   "outputs": [
    {
     "data": {
      "text/plain": [
       "array([[1., 0.],\n",
       "       [1., 0.],\n",
       "       [1., 0.],\n",
       "       [1., 0.],\n",
       "       [1., 0.],\n",
       "       [1., 0.],\n",
       "       [1., 0.],\n",
       "       [0., 1.],\n",
       "       [0., 1.],\n",
       "       [0., 1.],\n",
       "       [0., 1.],\n",
       "       [1., 0.],\n",
       "       [1., 0.],\n",
       "       [1., 0.],\n",
       "       [1., 0.]])"
      ]
     },
     "execution_count": 41,
     "metadata": {},
     "output_type": "execute_result"
    }
   ],
   "source": [
    "runway_allocation.get()"
   ]
  },
  {
   "cell_type": "code",
   "execution_count": 42,
   "metadata": {},
   "outputs": [
    {
     "data": {
      "text/plain": [
       "array([1, 1, 1, 1, 1, 1, 1, 2, 2, 2, 2, 1, 1, 1, 1], dtype=int64)"
      ]
     },
     "execution_count": 42,
     "metadata": {},
     "output_type": "execute_result"
    }
   ],
   "source": [
    "np.argmax(runway_allocation.get(), axis=1) + 1"
   ]
  },
  {
   "cell_type": "code",
   "execution_count": 43,
   "metadata": {},
   "outputs": [
    {
     "name": "stdout",
     "output_type": "stream",
     "text": [
      "Scheduled landing times: [155. 250.  93. 101. 111. 120. 128. 120. 128. 151. 341. 313. 181. 171.\n",
      " 342.]\n"
     ]
    }
   ],
   "source": [
    "print(\"Scheduled landing times:\", scheduled_landing.get())"
   ]
  },
  {
   "cell_type": "code",
   "execution_count": 44,
   "metadata": {},
   "outputs": [
    {
     "name": "stdout",
     "output_type": "stream",
     "text": [
      "Earliness: [0. 0. 0. 3. 0. 0. 7. 0. 0. 0. 0. 0. 0. 0. 0.]\n",
      "Lateness: [0. 0. 0. 0. 0. 0. 0. 0. 0. 0. 0. 0. 0. 0. 0.]\n"
     ]
    }
   ],
   "source": [
    "print(\"Earliness:\", landing_earliness.get())\n",
    "print(\"Lateness:\", landing_lateness.get())"
   ]
  },
  {
   "cell_type": "code",
   "execution_count": 46,
   "metadata": {},
   "outputs": [
    {
     "name": "stdout",
     "output_type": "stream",
     "text": [
      "Total cost: 300.0\n"
     ]
    }
   ],
   "source": [
    "print(\"Total cost:\", model.get())"
   ]
  },
  {
   "cell_type": "code",
   "execution_count": 63,
   "metadata": {},
   "outputs": [],
   "source": [
    "model_output = pd.DataFrame(\n",
    "    {\n",
    "    'Aircraft ID' : landing_time_cost_df['Aircraft ID'].values,\n",
    "    'Runway' :  np.argmax(runway_allocation.get(), axis=1) + 1,\n",
    "    'scheduled_landing': scheduled_landing.get(),\n",
    "    'landing_earliness': landing_earliness.get(),\n",
    "    'landing_lateness' : landing_lateness.get()\n",
    "    }).sort_values(['Runway','scheduled_landing']).reset_index(drop=True)\n",
    "model_output"
   ]
  },
  {
   "cell_type": "markdown",
   "metadata": {},
   "source": [
    "# Wrapping the Model as a Function"
   ]
  },
  {
   "cell_type": "code",
   "execution_count": 99,
   "metadata": {},
   "outputs": [],
   "source": [
    "def get_optimal_landing(no_of_runways, separation_time, earliest_landing, target_landing, latest_landing, \n",
    "                        early_penalty, late_penalty):\n",
    "    '''\n",
    "    Prints the optimal landing time and runway allocation for each plane, among other variables.\n",
    "    \n",
    "    Parameters:\n",
    "        no_of_runways (int): the number of available runways\n",
    "        separation_time (numpy.ndarray): a matrix of separation times when planes land on the same runway\n",
    "        earliest_landing (numpy.ndarray): an array of the earliest time each plane can land\n",
    "        target_landing (numpy.ndarray): an array of the target landing time for each plane\n",
    "        latest_landing (numpy.ndarray): an array of the latest time each plane can land\n",
    "        early_penalty (numpy.ndarray): an array containing the penalty per unit time of landing each plane early\n",
    "        late_penalty (numpy.ndarray): an array containing the penalty per unit time of landing each plane late\n",
    "    '''\n",
    "    \n",
    "    check_input_shapes(separation_time, len(earliest_landing), len(target_landing), len(latest_landing), \n",
    "                       len(early_penalty), len(late_penalty))\n",
    "    \n",
    "    no_of_planes = len(earliest_landing)\n",
    "    \n",
    "    model = ro.Model('Airplane Landing')\n",
    "    \n",
    "    # Decision variables\n",
    "    scheduled_landing_time = model.dvar(no_of_planes)\n",
    "    earliness = model.dvar(no_of_planes)\n",
    "    lateness = model.dvar(no_of_planes)\n",
    "    lands_before = model.dvar((no_of_planes, no_of_planes), \"B\")\n",
    "    lands_on_same_runway = model.dvar((no_of_planes, no_of_planes), \"B\")\n",
    "    runway_allocation = model.dvar((no_of_planes, no_of_runways), \"B\")\n",
    "    \n",
    "    # Objective\n",
    "    model.min(sum(early_penalty*earliness) + sum(late_penalty*lateness))\n",
    "    \n",
    "    # Constraints\n",
    "    model.st(earliest_landing <= scheduled_landing_time <= latest_landing)\n",
    "    model.st(scheduled_landing_time - target_landing == earliness - lateness)\n",
    "    M = 99999\n",
    "    for j in range(no_of_planes):\n",
    "        for i in range(no_of_planes):\n",
    "            if i != j:\n",
    "                model.st(scheduled_landing_time[j] - scheduled_landing_time[i] >= \n",
    "                         separation_time[i,j]*lands_on_same_runway[i,j] - M*lands_before[j,i])\n",
    "    for j in range(no_of_planes):\n",
    "        for i in range(no_of_planes):\n",
    "            if i != j:\n",
    "                model.st(lands_before[i,j] + lands_before[j,i] == 1)\n",
    "    for j in range(no_of_planes):\n",
    "        for i in range(no_of_planes):\n",
    "            if i != j:\n",
    "                for r in range(no_of_runways):\n",
    "                    model.st(lands_on_same_runway[i,j] >= runway_allocation[i,r] + runway_allocation[j,r] - 1)\n",
    "    for i in range(no_of_planes):\n",
    "        model.st(sum(runway_allocation[i,r] for r in range(no_of_runways)) == 1)\n",
    "    \n",
    "    model.st(scheduled_landing_time >= 0,\n",
    "             earliness >= 0,\n",
    "             lateness >= 0)\n",
    "    \n",
    "    # Get solution\n",
    "    model.solve(grb)\n",
    "    \n",
    "    # Print results\n",
    "    print(\"-------------------------\")\n",
    "    print(\"Scheduled landing times:\", scheduled_landing_time.get())\n",
    "    print(\"Earliness:\", earliness.get())\n",
    "    print(\"Lateness:\", lateness.get())\n",
    "    print(\"Whether i lands before j:\\n\", lands_before.get())\n",
    "    print(\"Whether i lands on the same runway as j:\\n\", lands_on_same_runway.get())\n",
    "    print(\"Runway allocation:\\n\", runway_allocation.get())\n",
    "    \n",
    "    landing_time_to_plane = {v:k for k, v in enumerate(scheduled_landing_time.get())}\n",
    "    print(\"Sequence of landing:\", [landing_time_to_plane[time] for time in sorted(scheduled_landing_time.get())])\n",
    "    print(\"Sequence of landing times:\", sorted(scheduled_landing_time.get()))\n",
    "    print(\"Total cost:\", model.get())\n",
    "    \n",
    "    \n",
    "def check_input_shapes(separation, *args):\n",
    "    assert len(set(args)) == 1, \"Length of inputs must be equal\"\n",
    "    assert separation.shape == (args[0], args[0]), \"Shape of separation must be NxN, where N is the length of each of the other inputs\""
   ]
  },
  {
   "cell_type": "code",
   "execution_count": 101,
   "metadata": {},
   "outputs": [
    {
     "name": "stdout",
     "output_type": "stream",
     "text": [
      "Being solved by Gurobi...\n",
      "Solution status: 2\n",
      "Running time: 0.0187s\n",
      "-------------------------\n",
      "Scheduled landing times: [155. 258.  98. 106. 123. 132. 138. 140. 150. 180.]\n",
      "Earliness: [0. 0. 0. 0. 0. 0. 0. 0. 0. 0.]\n",
      "Lateness: [0. 0. 0. 0. 0. 3. 0. 0. 0. 0.]\n",
      "Whether i lands before j:\n",
      " [[0. 1. 0. 0. 0. 0. 0. 0. 0. 1.]\n",
      " [0. 0. 0. 0. 0. 0. 0. 0. 0. 0.]\n",
      " [1. 1. 0. 1. 1. 1. 1. 1. 1. 1.]\n",
      " [1. 1. 0. 0. 1. 1. 1. 1. 1. 1.]\n",
      " [1. 1. 0. 0. 0. 1. 1. 1. 1. 1.]\n",
      " [1. 1. 0. 0. 0. 0. 1. 1. 1. 1.]\n",
      " [1. 1. 0. 0. 0. 0. 0. 1. 1. 1.]\n",
      " [1. 1. 0. 0. 0. 0. 0. 0. 1. 1.]\n",
      " [1. 1. 0. 0. 0. 0. 0. 0. 0. 1.]\n",
      " [0. 1. 0. 0. 0. 0. 0. 0. 0. 0.]]\n",
      "Whether i lands on the same runway as j:\n",
      " [[0. 1. 1. 1. 1. 1. 1. 1. 1. 1.]\n",
      " [1. 0. 1. 1. 1. 1. 1. 1. 1. 1.]\n",
      " [1. 1. 0. 1. 1. 1. 1. 1. 1. 1.]\n",
      " [1. 1. 1. 0. 1. 1. 1. 1. 1. 1.]\n",
      " [1. 1. 1. 1. 0. 1. 1. 1. 1. 1.]\n",
      " [1. 1. 1. 1. 1. 0. 0. 1. 1. 1.]\n",
      " [1. 1. 1. 1. 1. 1. 0. 0. 1. 1.]\n",
      " [1. 1. 1. 1. 1. 1. 1. 0. 1. 1.]\n",
      " [0. 1. 1. 1. 1. 1. 1. 1. 0. 1.]\n",
      " [1. 1. 1. 1. 1. 1. 1. 1. 1. 0.]]\n",
      "Runway allocation:\n",
      " [[1. 0.]\n",
      " [0. 1.]\n",
      " [0. 1.]\n",
      " [0. 1.]\n",
      " [0. 1.]\n",
      " [0. 1.]\n",
      " [1. 0.]\n",
      " [0. 1.]\n",
      " [0. 1.]\n",
      " [0. 1.]]\n",
      "Sequence of landing: [2, 3, 4, 5, 6, 7, 8, 0, 9, 1]\n",
      "Sequence of landing times: [98.0, 106.0, 123.0, 132.0, 138.0, 140.0, 150.0, 155.0, 180.0, 258.0]\n",
      "Total cost: 90.0\n"
     ]
    }
   ],
   "source": [
    "get_optimal_landing(num_runways, separation_time, earliest_landing, target_landing, latest_landing, early_landing_penalty, late_landing_penalty)"
   ]
  },
  {
   "cell_type": "code",
   "execution_count": null,
   "metadata": {},
   "outputs": [],
   "source": []
  },
  {
   "attachments": {},
   "cell_type": "markdown",
   "metadata": {},
   "source": [
    "# Appendix"
   ]
  }
 ],
 "metadata": {
  "kernelspec": {
   "display_name": "Python 3 (ipykernel)",
   "language": "python",
   "name": "python3"
  },
  "language_info": {
   "codemirror_mode": {
    "name": "ipython",
    "version": 3
   },
   "file_extension": ".py",
   "mimetype": "text/x-python",
   "name": "python",
   "nbconvert_exporter": "python",
   "pygments_lexer": "ipython3",
   "version": "3.8.8"
  },
  "toc": {
   "base_numbering": 1,
   "nav_menu": {},
   "number_sections": false,
   "sideBar": true,
   "skip_h1_title": false,
   "title_cell": "Table of Contents",
   "title_sidebar": "Contents",
   "toc_cell": false,
   "toc_position": {},
   "toc_section_display": true,
   "toc_window_display": false
  },
  "varInspector": {
   "cols": {
    "lenName": 16,
    "lenType": 16,
    "lenVar": 40
   },
   "kernels_config": {
    "python": {
     "delete_cmd_postfix": "",
     "delete_cmd_prefix": "del ",
     "library": "var_list.py",
     "varRefreshCmd": "print(var_dic_list())"
    },
    "r": {
     "delete_cmd_postfix": ") ",
     "delete_cmd_prefix": "rm(",
     "library": "var_list.r",
     "varRefreshCmd": "cat(var_dic_list()) "
    }
   },
   "types_to_exclude": [
    "module",
    "function",
    "builtin_function_or_method",
    "instance",
    "_Feature"
   ],
   "window_display": false
  }
 },
 "nbformat": 4,
 "nbformat_minor": 2
}
